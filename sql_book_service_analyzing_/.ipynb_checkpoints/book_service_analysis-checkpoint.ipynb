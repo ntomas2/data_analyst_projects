{
 "cells": [
  {
   "cell_type": "markdown",
   "id": "3f49af43",
   "metadata": {},
   "source": [
    "# Анализ базы данных сервиса для чтения книг"
   ]
  },
  {
   "cell_type": "markdown",
   "id": "9c7a19aa",
   "metadata": {},
   "source": [
    "Задача  — проанализировать базу данных.<br>\n",
    "В ней — информация о книгах, издательствах, авторах, а также пользовательские обзоры книг. Эти данные помогут сформулировать ценностное предложение для нового продукта."
   ]
  },
  {
   "cell_type": "markdown",
   "id": "d3a6e2fb",
   "metadata": {},
   "source": [
    "# Описание данных\n",
    "**Таблица `books`**\n",
    "\n",
    "Содержит данные о книгах:\n",
    "\n",
    "- `book_id` — идентификатор книги;\n",
    "- `author_id` — идентификатор автора;\n",
    "- `title` — название книги;\n",
    "- `num_pages` — количество страниц;\n",
    "- `publication_date` — дата публикации книги;\n",
    "- `publisher_id` — идентификатор издателя.\n",
    "\n",
    "**Таблица `authors`**\n",
    "\n",
    "Содержит данные об авторах:\n",
    "\n",
    "- `author_id` — идентификатор автора;\n",
    "- `author` — имя автора.\n",
    "\n",
    "**Таблица `publishers`**\n",
    "\n",
    "Содержит данные об издательствах:\n",
    "\n",
    "- `publisher_id` — идентификатор издательства;\n",
    "- `publisher` — название издательства;\n",
    "\n",
    "**Таблица `ratings`**\n",
    "\n",
    "Содержит данные о пользовательских оценках книг:\n",
    "\n",
    "- `rating_id` — идентификатор оценки;\n",
    "- `book_id` — идентификатор книги;\n",
    "- `username` — имя пользователя, оставившего оценку;\n",
    "- `rating` — оценка книги.\n",
    "\n",
    "**Таблица `reviews`**\n",
    "\n",
    "Содержит данные о пользовательских обзорах на книги:\n",
    "\n",
    "- `review_id` — идентификатор обзора;\n",
    "- `book_id` — идентификатор книги;\n",
    "- `username` — имя пользователя, написавшего обзор;\n",
    "- `text` — текст обзора."
   ]
  },
  {
   "cell_type": "markdown",
   "id": "3e635ee0",
   "metadata": {},
   "source": [
    "# Содержание\n",
    "1. [Подключение к БД](#db_connecting)\n",
    "2. [SQL запросы к БД](#sql_queries)\n",
    "3. [Общий вывод](#general_conclusion)"
   ]
  },
  {
   "cell_type": "markdown",
   "id": "4428dec9",
   "metadata": {},
   "source": [
    "<a id=\"db_connecting\"></a>\n",
    "## Подключение к БД"
   ]
  },
  {
   "cell_type": "code",
   "execution_count": 1,
   "id": "9c63944d",
   "metadata": {},
   "outputs": [],
   "source": [
    "# импортируем библиотеки\n",
    "import pandas as pd\n",
    "from sqlalchemy import create_engine\n",
    "# устанавливаем параметры\n",
    "db_config = {'user': 'praktikum_student',  # имя пользователя\n",
    "             'pwd': 'Sdf4$2;d-d30pp',  # пароль\n",
    "             'host': 'rc1b-wcoijxj3yxfsf3fs.mdb.yandexcloud.net',\n",
    "             'port': 6432,  # порт подключения\n",
    "             'db': 'data-analyst-final-project-db'}  # название базы данных\n",
    "connection_string = 'postgresql://{}:{}@{}:{}/{}'.format(db_config['user'],\n",
    "                                                         db_config['pwd'],\n",
    "                                                         db_config['host'],\n",
    "                                                         db_config['port'],\n",
    "                                                         db_config['db'])\n",
    "# сохраняем коннектор\n",
    "engine = create_engine(connection_string, connect_args={'sslmode': 'require'})"
   ]
  },
  {
   "cell_type": "markdown",
   "id": "574fe1de",
   "metadata": {},
   "source": [
    "<a id=\"sql_queries\"></a>\n",
    "## SQL запросы к БД"
   ]
  },
  {
   "cell_type": "markdown",
   "id": "186dbba0",
   "metadata": {},
   "source": [
    "**1. Посчитаем, сколько книг вышло после 1 января 2000 года**"
   ]
  },
  {
   "cell_type": "code",
   "execution_count": 2,
   "id": "e2535ecc",
   "metadata": {},
   "outputs": [
    {
     "name": "stdout",
     "output_type": "stream",
     "text": [
      "819 книг вышло после 1 января 2000 года\n"
     ]
    }
   ],
   "source": [
    "query1 = '''\n",
    "SELECT COUNT(book_id) AS books_count\n",
    "FROM books\n",
    "WHERE publication_date > '2000-01-01'\n",
    "'''\n",
    "\n",
    "books_count = pd.io.sql.read_sql(query1, con=engine).loc[0, 'books_count']\n",
    "print(f'{books_count} книг вышло после 1 января 2000 года')"
   ]
  },
  {
   "cell_type": "markdown",
   "id": "c1da7c55",
   "metadata": {},
   "source": [
    "**2. Для каждой книги посчитаем количество обзоров и среднюю оценку**"
   ]
  },
  {
   "cell_type": "code",
   "execution_count": 3,
   "id": "49583905",
   "metadata": {},
   "outputs": [
    {
     "data": {
      "text/html": [
       "<div>\n",
       "<style scoped>\n",
       "    .dataframe tbody tr th:only-of-type {\n",
       "        vertical-align: middle;\n",
       "    }\n",
       "\n",
       "    .dataframe tbody tr th {\n",
       "        vertical-align: top;\n",
       "    }\n",
       "\n",
       "    .dataframe thead th {\n",
       "        text-align: right;\n",
       "    }\n",
       "</style>\n",
       "<table border=\"1\" class=\"dataframe\">\n",
       "  <thead>\n",
       "    <tr style=\"text-align: right;\">\n",
       "      <th></th>\n",
       "      <th>books_name</th>\n",
       "      <th>reviews</th>\n",
       "      <th>avg_rating</th>\n",
       "    </tr>\n",
       "  </thead>\n",
       "  <tbody>\n",
       "    <tr>\n",
       "      <th>0</th>\n",
       "      <td>The Count of Monte Cristo</td>\n",
       "      <td>115</td>\n",
       "      <td>4.217391</td>\n",
       "    </tr>\n",
       "    <tr>\n",
       "      <th>1</th>\n",
       "      <td>Count Zero (Sprawl  #2)</td>\n",
       "      <td>4</td>\n",
       "      <td>2.500000</td>\n",
       "    </tr>\n",
       "    <tr>\n",
       "      <th>2</th>\n",
       "      <td>The Botany of Desire: A Plant's-Eye View of th...</td>\n",
       "      <td>4</td>\n",
       "      <td>3.500000</td>\n",
       "    </tr>\n",
       "    <tr>\n",
       "      <th>3</th>\n",
       "      <td>The Poisonwood Bible</td>\n",
       "      <td>110</td>\n",
       "      <td>4.363636</td>\n",
       "    </tr>\n",
       "    <tr>\n",
       "      <th>4</th>\n",
       "      <td>The Canterbury Tales</td>\n",
       "      <td>18</td>\n",
       "      <td>3.333333</td>\n",
       "    </tr>\n",
       "  </tbody>\n",
       "</table>\n",
       "</div>"
      ],
      "text/plain": [
       "                                          books_name  reviews  avg_rating\n",
       "0                          The Count of Monte Cristo      115    4.217391\n",
       "1                            Count Zero (Sprawl  #2)        4    2.500000\n",
       "2  The Botany of Desire: A Plant's-Eye View of th...        4    3.500000\n",
       "3                               The Poisonwood Bible      110    4.363636\n",
       "4                               The Canterbury Tales       18    3.333333"
      ]
     },
     "metadata": {},
     "output_type": "display_data"
    },
    {
     "name": "stdout",
     "output_type": "stream",
     "text": [
      "Всего записей в выборке 993\n"
     ]
    }
   ],
   "source": [
    "query2 = '''\n",
    "SELECT b.title AS books_name,\n",
    "       COUNT(rev.review_id) AS reviews,\n",
    "       AVG(rat.rating) AS avg_rating\n",
    "FROM books b\n",
    "     INNER JOIN reviews rev ON b.book_id = rev.book_id\n",
    "     INNER JOIN ratings rat ON b.book_id = rat.book_id\n",
    "GROUP BY books_name\n",
    "'''\n",
    "avg_rate_and_reviews = pd.io.sql.read_sql(query2, con=engine)\n",
    "display(avg_rate_and_reviews.head())\n",
    "print(f'Всего записей в выборке {avg_rate_and_reviews.shape[0]}')"
   ]
  },
  {
   "cell_type": "markdown",
   "id": "176c9864",
   "metadata": {},
   "source": [
    "**3. Определим издательство, которое выпустило наибольшее число книг толще 50 страниц**"
   ]
  },
  {
   "cell_type": "code",
   "execution_count": 4,
   "id": "15218969",
   "metadata": {},
   "outputs": [
    {
     "name": "stdout",
     "output_type": "stream",
     "text": [
      "Издательство, которое выпустило наибольшее число книг толще 50 страниц - Penguin Books\n"
     ]
    }
   ],
   "source": [
    "query3 = '''\n",
    "SELECT p.publisher AS publisher_name,\n",
    "       COUNT(b.book_id) as books_count\n",
    "FROM publishers p\n",
    "     INNER JOIN books b ON p.publisher_id = b.publisher_id\n",
    "WHERE b.num_pages > 50\n",
    "GROUP BY publisher_name\n",
    "ORDER BY books_count DESC\n",
    "LIMIT 1\n",
    "'''\n",
    "\n",
    "most_books_publisher = pd.io.sql.read_sql(\n",
    "    query3, con=engine).loc[0, 'publisher_name']\n",
    "print(\n",
    "    'Издательство, которое выпустило наибольшее число книг толще 50 страниц - {}'.format(\n",
    "        most_books_publisher)\n",
    ")"
   ]
  },
  {
   "cell_type": "markdown",
   "id": "0291d4cf",
   "metadata": {},
   "source": [
    "**4. Определим автора с самой высокой средней оценкой книг, учитывая только книги с 50 и более оценками**"
   ]
  },
  {
   "cell_type": "code",
   "execution_count": 5,
   "id": "1ba10adc",
   "metadata": {},
   "outputs": [
    {
     "name": "stdout",
     "output_type": "stream",
     "text": [
      "J.K. Rowling/Mary GrandPré автор с самой высокой средней оценкой книг, учитывая только книги с 50 и более оценками\n"
     ]
    }
   ],
   "source": [
    "query4 = '''\n",
    "SELECT a.author AS author_name,\n",
    "       AVG(rat.rating) AS avg_rating\n",
    "FROM authors a\n",
    "     INNER JOIN books b ON a.author_id = b.author_id\n",
    "     INNER JOIN ratings rat ON rat.book_id = b.book_id\n",
    "GROUP BY author_name\n",
    "HAVING COUNT(rat.rating_id) > 50\n",
    "ORDER BY avg_rating DESC\n",
    "LIMIT 1\n",
    "'''\n",
    "\n",
    "most_avg_rating_author = pd.io.sql.read_sql(\n",
    "    query4, con=engine).loc[0, 'author_name']\n",
    "print(\n",
    "    '{} автор с самой высокой средней оценкой книг, учитывая только книги с 50 и более оценками'.format(\n",
    "        most_avg_rating_author)\n",
    ")"
   ]
  },
  {
   "cell_type": "markdown",
   "id": "717c0925",
   "metadata": {},
   "source": [
    "**5. Посчитаем среднее количество обзоров от пользователей, которые поставили больше 50 оценок**"
   ]
  },
  {
   "cell_type": "code",
   "execution_count": 6,
   "id": "80b714d8",
   "metadata": {},
   "outputs": [
    {
     "name": "stdout",
     "output_type": "stream",
     "text": [
      "Среднее количество обзоров от пользователей, которые поставили больше 50 оценок - 163\n"
     ]
    }
   ],
   "source": [
    "query5 = '''\n",
    "SELECT CAST(FLOOR(AVG(rev_per_user.reviews_count)) AS int) AS reviews_avg_count\n",
    "FROM (SELECT rat.username AS user_name,\n",
    "             COUNT(rev.review_id) AS reviews_count\n",
    "      FROM ratings rat\n",
    "           INNER JOIN books b ON rat.book_id = b.book_id\n",
    "           INNER JOIN reviews rev ON b.book_id = rev.book_id\n",
    "      GROUP BY user_name\n",
    "      HAVING COUNT(rat.rating_id) > 50\n",
    ") AS rev_per_user\n",
    "'''\n",
    "\n",
    "most_avg_rating_author = pd.io.sql.read_sql(query5, con=engine).loc[0, 'reviews_avg_count']\n",
    "print(\n",
    "    'Среднее количество обзоров от пользователей, которые поставили больше 50 оценок - {}'.format(\n",
    "    most_avg_rating_author)\n",
    ")"
   ]
  },
  {
   "cell_type": "markdown",
   "id": "b62fed14",
   "metadata": {},
   "source": [
    "<a id=\"general_conclusion\"></a>\n",
    "## Общий вывод"
   ]
  },
  {
   "cell_type": "markdown",
   "id": "ad380530",
   "metadata": {},
   "source": [
    "1. 819 книг вышло после 1 января 2000 года;\n",
    "2. Издательство, которое выпустило наибольшее число книг толще 50 страниц - Penguin Books;\n",
    "3. J.K. Rowling/Mary GrandPré автор с самой высокой средней оценкой книг, учитывая только книги с 50 и более оценками;\n",
    "4. Среднее количество обзоров от пользователей, которые поставили больше 50 оценок - 163."
   ]
  }
 ],
 "metadata": {
  "kernelspec": {
   "display_name": "Python 3 (ipykernel)",
   "language": "python",
   "name": "python3"
  },
  "language_info": {
   "codemirror_mode": {
    "name": "ipython",
    "version": 3
   },
   "file_extension": ".py",
   "mimetype": "text/x-python",
   "name": "python",
   "nbconvert_exporter": "python",
   "pygments_lexer": "ipython3",
   "version": "3.9.2"
  }
 },
 "nbformat": 4,
 "nbformat_minor": 5
}

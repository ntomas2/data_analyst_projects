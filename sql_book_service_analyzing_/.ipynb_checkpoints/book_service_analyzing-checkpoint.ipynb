{
 "cells": [
  {
   "cell_type": "markdown",
   "id": "3f49af43",
   "metadata": {},
   "source": [
    "# Анализ базы данных сервиса для чтения книг"
   ]
  },
  {
   "cell_type": "markdown",
   "id": "9c7a19aa",
   "metadata": {},
   "source": [
    "Задача  — проанализировать базу данных.<br>\n",
    "В ней — информация о книгах, издательствах, авторах, а также пользовательские обзоры книг. Эти данные помогут сформулировать ценностное предложение для нового продукта."
   ]
  },
  {
   "cell_type": "markdown",
   "id": "d3a6e2fb",
   "metadata": {},
   "source": [
    "# Описание данных\n",
    "**Таблица `books`**\n",
    "\n",
    "Содержит данные о книгах:\n",
    "\n",
    "- `book_id` — идентификатор книги;\n",
    "- `author_id` — идентификатор автора;\n",
    "- `title` — название книги;\n",
    "- `num_pages` — количество страниц;\n",
    "- `publication_date` — дата публикации книги;\n",
    "- `publisher_id` — идентификатор издателя.\n",
    "\n",
    "**Таблица `authors`**\n",
    "\n",
    "Содержит данные об авторах:\n",
    "\n",
    "- `author_id` — идентификатор автора;\n",
    "- `author` — имя автора.\n",
    "\n",
    "**Таблица `publishers`**\n",
    "\n",
    "Содержит данные об издательствах:\n",
    "\n",
    "- `publisher_id` — идентификатор издательства;\n",
    "- `publisher` — название издательства;\n",
    "\n",
    "**Таблица `ratings`**\n",
    "\n",
    "Содержит данные о пользовательских оценках книг:\n",
    "\n",
    "- `rating_id` — идентификатор оценки;\n",
    "- `book_id` — идентификатор книги;\n",
    "- `username` — имя пользователя, оставившего оценку;\n",
    "- `rating` — оценка книги.\n",
    "\n",
    "**Таблица `reviews`**\n",
    "\n",
    "Содержит данные о пользовательских обзорах на книги:\n",
    "\n",
    "- `review_id` — идентификатор обзора;\n",
    "- `book_id` — идентификатор книги;\n",
    "- `username` — имя пользователя, написавшего обзор;\n",
    "- `text` — текст обзора."
   ]
  },
  {
   "cell_type": "markdown",
   "id": "3e635ee0",
   "metadata": {},
   "source": [
    "# Содержание\n",
    "1. [Подключение к БД](#db_connecting)\n",
    "2. [SQL запросы к БД](#sql_queries)\n",
    "3. [Общий вывод](#general_conclusion)"
   ]
  },
  {
   "cell_type": "markdown",
   "id": "4428dec9",
   "metadata": {},
   "source": [
    "<a id=\"db_connecting\"></a>\n",
    "## Подключение к БД"
   ]
  },
  {
   "cell_type": "code",
   "execution_count": 1,
   "id": "9c63944d",
   "metadata": {},
   "outputs": [],
   "source": [
    "# импортируем библиотеки\n",
    "import pandas as pd\n",
    "from sqlalchemy import create_engine\n",
    "# устанавливаем параметры\n",
    "db_config = {'user': 'praktikum_student',  # имя пользователя\n",
    "             'pwd': 'Sdf4$2;d-d30pp',  # пароль\n",
    "             'host': 'rc1b-wcoijxj3yxfsf3fs.mdb.yandexcloud.net',\n",
    "             'port': 6432,  # порт подключения\n",
    "             'db': 'data-analyst-final-project-db'}  # название базы данных\n",
    "connection_string = 'postgresql://{}:{}@{}:{}/{}'.format(db_config['user'],\n",
    "                                                         db_config['pwd'],\n",
    "                                                         db_config['host'],\n",
    "                                                         db_config['port'],\n",
    "                                                         db_config['db'])\n",
    "# сохраняем коннектор\n",
    "engine = create_engine(connection_string, connect_args={'sslmode': 'require'})"
   ]
  },
  {
   "cell_type": "markdown",
   "id": "574fe1de",
   "metadata": {},
   "source": [
    "<a id=\"sql_queries\"></a>\n",
    "## SQL запросы к БД"
   ]
  },
  {
   "cell_type": "markdown",
   "id": "186dbba0",
   "metadata": {},
   "source": [
    "**1. Посчитаем, сколько книг вышло после 1 января 2000 года**"
   ]
  },
  {
   "cell_type": "code",
   "execution_count": 2,
   "id": "e2535ecc",
   "metadata": {},
   "outputs": [
    {
     "name": "stdout",
     "output_type": "stream",
     "text": [
      "819 книг вышло после 1 января 2000 года\n"
     ]
    }
   ],
   "source": [
    "query1 = '''\n",
    "SELECT COUNT(book_id) AS books_count\n",
    "FROM books\n",
    "WHERE publication_date > '2000-01-01'\n",
    "'''\n",
    "\n",
    "books_count = pd.io.sql.read_sql(query1, con=engine).loc[0, 'books_count']\n",
    "print(f'{books_count} книг вышло после 1 января 2000 года')"
   ]
  },
  {
   "cell_type": "markdown",
   "id": "c1da7c55",
   "metadata": {},
   "source": [
    "**2. Для каждой книги посчитаем количество обзоров и среднюю оценку**"
   ]
  },
  {
   "cell_type": "code",
   "execution_count": 3,
   "id": "49583905",
   "metadata": {},
   "outputs": [
    {
     "data": {
      "text/html": [
       "<div>\n",
       "<style scoped>\n",
       "    .dataframe tbody tr th:only-of-type {\n",
       "        vertical-align: middle;\n",
       "    }\n",
       "\n",
       "    .dataframe tbody tr th {\n",
       "        vertical-align: top;\n",
       "    }\n",
       "\n",
       "    .dataframe thead th {\n",
       "        text-align: right;\n",
       "    }\n",
       "</style>\n",
       "<table border=\"1\" class=\"dataframe\">\n",
       "  <thead>\n",
       "    <tr style=\"text-align: right;\">\n",
       "      <th></th>\n",
       "      <th>books_name</th>\n",
       "      <th>reviews</th>\n",
       "      <th>avg_rating</th>\n",
       "    </tr>\n",
       "  </thead>\n",
       "  <tbody>\n",
       "    <tr>\n",
       "      <th>0</th>\n",
       "      <td>The Count of Monte Cristo</td>\n",
       "      <td>115</td>\n",
       "      <td>4.217391</td>\n",
       "    </tr>\n",
       "    <tr>\n",
       "      <th>1</th>\n",
       "      <td>Count Zero (Sprawl  #2)</td>\n",
       "      <td>4</td>\n",
       "      <td>2.500000</td>\n",
       "    </tr>\n",
       "    <tr>\n",
       "      <th>2</th>\n",
       "      <td>The Botany of Desire: A Plant's-Eye View of th...</td>\n",
       "      <td>4</td>\n",
       "      <td>3.500000</td>\n",
       "    </tr>\n",
       "    <tr>\n",
       "      <th>3</th>\n",
       "      <td>The Poisonwood Bible</td>\n",
       "      <td>110</td>\n",
       "      <td>4.363636</td>\n",
       "    </tr>\n",
       "    <tr>\n",
       "      <th>4</th>\n",
       "      <td>The Canterbury Tales</td>\n",
       "      <td>18</td>\n",
       "      <td>3.333333</td>\n",
       "    </tr>\n",
       "  </tbody>\n",
       "</table>\n",
       "</div>"
      ],
      "text/plain": [
       "                                          books_name  reviews  avg_rating\n",
       "0                          The Count of Monte Cristo      115    4.217391\n",
       "1                            Count Zero (Sprawl  #2)        4    2.500000\n",
       "2  The Botany of Desire: A Plant's-Eye View of th...        4    3.500000\n",
       "3                               The Poisonwood Bible      110    4.363636\n",
       "4                               The Canterbury Tales       18    3.333333"
      ]
     },
     "metadata": {},
     "output_type": "display_data"
    },
    {
     "name": "stdout",
     "output_type": "stream",
     "text": [
      "Всего записей в выборке 993\n"
     ]
    }
   ],
   "source": [
    "query2 = '''\n",
    "SELECT b.title AS books_name,\n",
    "       COUNT(rev.review_id) AS reviews,\n",
    "       AVG(rat.rating) AS avg_rating\n",
    "FROM books b\n",
    "     INNER JOIN reviews rev ON b.book_id = rev.book_id\n",
    "     INNER JOIN ratings rat ON b.book_id = rat.book_id\n",
    "GROUP BY books_name\n",
    "'''\n",
    "avg_rate_and_reviews = pd.io.sql.read_sql(query2, con=engine)\n",
    "display(avg_rate_and_reviews.head())\n",
    "print(f'Всего записей в выборке {avg_rate_and_reviews.shape[0]}')"
   ]
  },
  {
   "cell_type": "markdown",
   "id": "176c9864",
   "metadata": {},
   "source": [
    "**3. Определим издательство, которое выпустило наибольшее число книг толще 50 страниц**"
   ]
  },
  {
   "cell_type": "code",
   "execution_count": 4,
   "id": "15218969",
   "metadata": {},
   "outputs": [
    {
     "name": "stdout",
     "output_type": "stream",
     "text": [
      "Издательство, которое выпустило наибольшее число книг толще 50 страниц - Penguin Books\n"
     ]
    }
   ],
   "source": [
    "query3 = '''\n",
    "SELECT p.publisher AS publisher_name,\n",
    "       COUNT(b.book_id) as books_count\n",
    "FROM publishers p\n",
    "     INNER JOIN books b ON p.publisher_id = b.publisher_id\n",
    "WHERE b.num_pages > 50\n",
    "GROUP BY publisher_name\n",
    "ORDER BY books_count DESC\n",
    "LIMIT 1\n",
    "'''\n",
    "\n",
    "most_books_publisher = pd.io.sql.read_sql(\n",
    "    query3, con=engine).loc[0, 'publisher_name']\n",
    "print(\n",
    "    'Издательство, которое выпустило наибольшее число книг толще 50 страниц - {}'.format(\n",
    "        most_books_publisher)\n",
    ")"
   ]
  },
  {
   "cell_type": "markdown",
   "id": "0291d4cf",
   "metadata": {},
   "source": [
    "**4. Определим автора с самой высокой средней оценкой книг, учитывая только книги с 50 и более оценками**"
   ]
  },
  {
   "cell_type": "markdown",
   "id": "eef505c9",
   "metadata": {},
   "source": [
    "Находим книги с оценками больше 50"
   ]
  },
  {
   "cell_type": "code",
   "execution_count": 5,
   "id": "a03b7b4d",
   "metadata": {},
   "outputs": [
    {
     "data": {
      "text/html": [
       "<div>\n",
       "<style scoped>\n",
       "    .dataframe tbody tr th:only-of-type {\n",
       "        vertical-align: middle;\n",
       "    }\n",
       "\n",
       "    .dataframe tbody tr th {\n",
       "        vertical-align: top;\n",
       "    }\n",
       "\n",
       "    .dataframe thead th {\n",
       "        text-align: right;\n",
       "    }\n",
       "</style>\n",
       "<table border=\"1\" class=\"dataframe\">\n",
       "  <thead>\n",
       "    <tr style=\"text-align: right;\">\n",
       "      <th></th>\n",
       "      <th>bookid</th>\n",
       "    </tr>\n",
       "  </thead>\n",
       "  <tbody>\n",
       "    <tr>\n",
       "      <th>0</th>\n",
       "      <td>75</td>\n",
       "    </tr>\n",
       "    <tr>\n",
       "      <th>1</th>\n",
       "      <td>750</td>\n",
       "    </tr>\n",
       "    <tr>\n",
       "      <th>2</th>\n",
       "      <td>545</td>\n",
       "    </tr>\n",
       "    <tr>\n",
       "      <th>3</th>\n",
       "      <td>948</td>\n",
       "    </tr>\n",
       "    <tr>\n",
       "      <th>4</th>\n",
       "      <td>488</td>\n",
       "    </tr>\n",
       "    <tr>\n",
       "      <th>5</th>\n",
       "      <td>696</td>\n",
       "    </tr>\n",
       "    <tr>\n",
       "      <th>6</th>\n",
       "      <td>722</td>\n",
       "    </tr>\n",
       "    <tr>\n",
       "      <th>7</th>\n",
       "      <td>627</td>\n",
       "    </tr>\n",
       "    <tr>\n",
       "      <th>8</th>\n",
       "      <td>733</td>\n",
       "    </tr>\n",
       "    <tr>\n",
       "      <th>9</th>\n",
       "      <td>779</td>\n",
       "    </tr>\n",
       "    <tr>\n",
       "      <th>10</th>\n",
       "      <td>405</td>\n",
       "    </tr>\n",
       "    <tr>\n",
       "      <th>11</th>\n",
       "      <td>302</td>\n",
       "    </tr>\n",
       "    <tr>\n",
       "      <th>12</th>\n",
       "      <td>673</td>\n",
       "    </tr>\n",
       "    <tr>\n",
       "      <th>13</th>\n",
       "      <td>300</td>\n",
       "    </tr>\n",
       "    <tr>\n",
       "      <th>14</th>\n",
       "      <td>299</td>\n",
       "    </tr>\n",
       "    <tr>\n",
       "      <th>15</th>\n",
       "      <td>301</td>\n",
       "    </tr>\n",
       "    <tr>\n",
       "      <th>16</th>\n",
       "      <td>399</td>\n",
       "    </tr>\n",
       "    <tr>\n",
       "      <th>17</th>\n",
       "      <td>79</td>\n",
       "    </tr>\n",
       "    <tr>\n",
       "      <th>18</th>\n",
       "      <td>656</td>\n",
       "    </tr>\n",
       "  </tbody>\n",
       "</table>\n",
       "</div>"
      ],
      "text/plain": [
       "    bookid\n",
       "0       75\n",
       "1      750\n",
       "2      545\n",
       "3      948\n",
       "4      488\n",
       "5      696\n",
       "6      722\n",
       "7      627\n",
       "8      733\n",
       "9      779\n",
       "10     405\n",
       "11     302\n",
       "12     673\n",
       "13     300\n",
       "14     299\n",
       "15     301\n",
       "16     399\n",
       "17      79\n",
       "18     656"
      ]
     },
     "execution_count": 5,
     "metadata": {},
     "output_type": "execute_result"
    }
   ],
   "source": [
    "query4 = '''\n",
    "SELECT book_id AS bookID\n",
    "FROM ratings\n",
    "GROUP BY bookID\n",
    "HAVING COUNT(rating_id) > 50\n",
    "'''\n",
    "\n",
    "pd.io.sql.read_sql(query4, con=engine)"
   ]
  },
  {
   "cell_type": "markdown",
   "id": "0bdeeabc",
   "metadata": {},
   "source": [
    "Находим авторов и среднюю оценку их книг"
   ]
  },
  {
   "cell_type": "code",
   "execution_count": 6,
   "id": "d7202ee7",
   "metadata": {},
   "outputs": [
    {
     "data": {
      "text/html": [
       "<div>\n",
       "<style scoped>\n",
       "    .dataframe tbody tr th:only-of-type {\n",
       "        vertical-align: middle;\n",
       "    }\n",
       "\n",
       "    .dataframe tbody tr th {\n",
       "        vertical-align: top;\n",
       "    }\n",
       "\n",
       "    .dataframe thead th {\n",
       "        text-align: right;\n",
       "    }\n",
       "</style>\n",
       "<table border=\"1\" class=\"dataframe\">\n",
       "  <thead>\n",
       "    <tr style=\"text-align: right;\">\n",
       "      <th></th>\n",
       "      <th>author_name</th>\n",
       "      <th>avg_rating</th>\n",
       "    </tr>\n",
       "  </thead>\n",
       "  <tbody>\n",
       "    <tr>\n",
       "      <th>0</th>\n",
       "      <td>J.K. Rowling/Mary GrandPré</td>\n",
       "      <td>4.287097</td>\n",
       "    </tr>\n",
       "  </tbody>\n",
       "</table>\n",
       "</div>"
      ],
      "text/plain": [
       "                  author_name  avg_rating\n",
       "0  J.K. Rowling/Mary GrandPré    4.287097"
      ]
     },
     "execution_count": 6,
     "metadata": {},
     "output_type": "execute_result"
    }
   ],
   "source": [
    "query4 = '''\n",
    "SELECT a.author AS author_name,\n",
    "       AVG(rat.rating) AS avg_rating \n",
    "FROM authors a\n",
    "     INNER JOIN books b ON a.author_id = b.author_id\n",
    "     INNER JOIN ratings rat ON b.book_id = rat.book_id\n",
    "WHERE b.book_id IN (SELECT book_id AS bookID\n",
    "FROM ratings\n",
    "GROUP BY bookID\n",
    "HAVING COUNT(rating_id) > 50)\n",
    "GROUP BY author_name\n",
    "ORDER BY avg_rating DESC\n",
    "LIMIT 1\n",
    "'''\n",
    "\n",
    "pd.io.sql.read_sql(query4, con=engine)"
   ]
  },
  {
   "cell_type": "code",
   "execution_count": 7,
   "id": "8a8e7986",
   "metadata": {},
   "outputs": [
    {
     "name": "stdout",
     "output_type": "stream",
     "text": [
      "J.K. Rowling/Mary GrandPré автор с самой высокой средней оценкой книг, учитывая только книги с 50 и более оценками\n"
     ]
    }
   ],
   "source": [
    "top_rate_author_name = pd.io.sql.read_sql(query4, con=engine).loc[0, 'author_name']\n",
    "print(\n",
    "    '{} автор с самой высокой средней оценкой книг, учитывая только книги с 50 и более оценками'.format(\n",
    "    top_rate_author_name)\n",
    ")"
   ]
  },
  {
   "cell_type": "markdown",
   "id": "717c0925",
   "metadata": {},
   "source": [
    "**5. Посчитаем среднее количество обзоров от пользователей, которые поставили больше 50 оценок**"
   ]
  },
  {
   "cell_type": "markdown",
   "id": "5e9e9863",
   "metadata": {},
   "source": [
    "Находим пользователей с количеством оценок больше 50"
   ]
  },
  {
   "cell_type": "code",
   "execution_count": 8,
   "id": "cea12852",
   "metadata": {},
   "outputs": [
    {
     "data": {
      "text/html": [
       "<div>\n",
       "<style scoped>\n",
       "    .dataframe tbody tr th:only-of-type {\n",
       "        vertical-align: middle;\n",
       "    }\n",
       "\n",
       "    .dataframe tbody tr th {\n",
       "        vertical-align: top;\n",
       "    }\n",
       "\n",
       "    .dataframe thead th {\n",
       "        text-align: right;\n",
       "    }\n",
       "</style>\n",
       "<table border=\"1\" class=\"dataframe\">\n",
       "  <thead>\n",
       "    <tr style=\"text-align: right;\">\n",
       "      <th></th>\n",
       "      <th>username</th>\n",
       "    </tr>\n",
       "  </thead>\n",
       "  <tbody>\n",
       "    <tr>\n",
       "      <th>0</th>\n",
       "      <td>sfitzgerald</td>\n",
       "    </tr>\n",
       "    <tr>\n",
       "      <th>1</th>\n",
       "      <td>jennifermiller</td>\n",
       "    </tr>\n",
       "    <tr>\n",
       "      <th>2</th>\n",
       "      <td>xdavis</td>\n",
       "    </tr>\n",
       "    <tr>\n",
       "      <th>3</th>\n",
       "      <td>paul88</td>\n",
       "    </tr>\n",
       "    <tr>\n",
       "      <th>4</th>\n",
       "      <td>martinadam</td>\n",
       "    </tr>\n",
       "    <tr>\n",
       "      <th>5</th>\n",
       "      <td>richard89</td>\n",
       "    </tr>\n",
       "  </tbody>\n",
       "</table>\n",
       "</div>"
      ],
      "text/plain": [
       "         username\n",
       "0     sfitzgerald\n",
       "1  jennifermiller\n",
       "2          xdavis\n",
       "3          paul88\n",
       "4      martinadam\n",
       "5       richard89"
      ]
     },
     "execution_count": 8,
     "metadata": {},
     "output_type": "execute_result"
    }
   ],
   "source": [
    "query5 = '''\n",
    "SELECT username\n",
    "FROM ratings\n",
    "GROUP BY username\n",
    "HAVING COUNT(rating_id) > 50\n",
    "'''\n",
    "\n",
    "pd.io.sql.read_sql(query5, con=engine)"
   ]
  },
  {
   "cell_type": "markdown",
   "id": "6a785993",
   "metadata": {},
   "source": [
    "Находим тех же пользователей в таблице обзоров и считаем для них количество обзоров"
   ]
  },
  {
   "cell_type": "code",
   "execution_count": 9,
   "id": "4a83c9b4",
   "metadata": {},
   "outputs": [
    {
     "data": {
      "text/html": [
       "<div>\n",
       "<style scoped>\n",
       "    .dataframe tbody tr th:only-of-type {\n",
       "        vertical-align: middle;\n",
       "    }\n",
       "\n",
       "    .dataframe tbody tr th {\n",
       "        vertical-align: top;\n",
       "    }\n",
       "\n",
       "    .dataframe thead th {\n",
       "        text-align: right;\n",
       "    }\n",
       "</style>\n",
       "<table border=\"1\" class=\"dataframe\">\n",
       "  <thead>\n",
       "    <tr style=\"text-align: right;\">\n",
       "      <th></th>\n",
       "      <th>username</th>\n",
       "      <th>reviews_count</th>\n",
       "    </tr>\n",
       "  </thead>\n",
       "  <tbody>\n",
       "    <tr>\n",
       "      <th>0</th>\n",
       "      <td>sfitzgerald</td>\n",
       "      <td>28</td>\n",
       "    </tr>\n",
       "    <tr>\n",
       "      <th>1</th>\n",
       "      <td>jennifermiller</td>\n",
       "      <td>25</td>\n",
       "    </tr>\n",
       "    <tr>\n",
       "      <th>2</th>\n",
       "      <td>xdavis</td>\n",
       "      <td>18</td>\n",
       "    </tr>\n",
       "    <tr>\n",
       "      <th>3</th>\n",
       "      <td>paul88</td>\n",
       "      <td>22</td>\n",
       "    </tr>\n",
       "    <tr>\n",
       "      <th>4</th>\n",
       "      <td>martinadam</td>\n",
       "      <td>27</td>\n",
       "    </tr>\n",
       "    <tr>\n",
       "      <th>5</th>\n",
       "      <td>richard89</td>\n",
       "      <td>26</td>\n",
       "    </tr>\n",
       "  </tbody>\n",
       "</table>\n",
       "</div>"
      ],
      "text/plain": [
       "         username  reviews_count\n",
       "0     sfitzgerald             28\n",
       "1  jennifermiller             25\n",
       "2          xdavis             18\n",
       "3          paul88             22\n",
       "4      martinadam             27\n",
       "5       richard89             26"
      ]
     },
     "execution_count": 9,
     "metadata": {},
     "output_type": "execute_result"
    }
   ],
   "source": [
    "query5 = '''\n",
    "SELECT username,\n",
    "       COUNT(review_id) AS reviews_count \n",
    "FROM reviews\n",
    "WHERE username IN (SELECT username\n",
    "FROM ratings\n",
    "GROUP BY username\n",
    "HAVING COUNT(rating_id) > 50)\n",
    "GROUP BY username\n",
    "'''\n",
    "\n",
    "pd.io.sql.read_sql(query5, con=engine)"
   ]
  },
  {
   "cell_type": "markdown",
   "id": "dd054514",
   "metadata": {},
   "source": [
    "Считаем среднее количество обзоров для пользователей"
   ]
  },
  {
   "cell_type": "code",
   "execution_count": 10,
   "id": "74808367",
   "metadata": {},
   "outputs": [
    {
     "data": {
      "text/html": [
       "<div>\n",
       "<style scoped>\n",
       "    .dataframe tbody tr th:only-of-type {\n",
       "        vertical-align: middle;\n",
       "    }\n",
       "\n",
       "    .dataframe tbody tr th {\n",
       "        vertical-align: top;\n",
       "    }\n",
       "\n",
       "    .dataframe thead th {\n",
       "        text-align: right;\n",
       "    }\n",
       "</style>\n",
       "<table border=\"1\" class=\"dataframe\">\n",
       "  <thead>\n",
       "    <tr style=\"text-align: right;\">\n",
       "      <th></th>\n",
       "      <th>avg_reviews</th>\n",
       "    </tr>\n",
       "  </thead>\n",
       "  <tbody>\n",
       "    <tr>\n",
       "      <th>0</th>\n",
       "      <td>24</td>\n",
       "    </tr>\n",
       "  </tbody>\n",
       "</table>\n",
       "</div>"
      ],
      "text/plain": [
       "   avg_reviews\n",
       "0           24"
      ]
     },
     "execution_count": 10,
     "metadata": {},
     "output_type": "execute_result"
    }
   ],
   "source": [
    "query5 = '''\n",
    "SELECT CAST(FLOOR(AVG(rev_per_user.reviews_count)) AS int) AS avg_reviews\n",
    "FROM(SELECT username,\n",
    "       COUNT(review_id) AS reviews_count \n",
    "FROM reviews\n",
    "WHERE username IN (SELECT username\n",
    "FROM ratings\n",
    "GROUP BY username\n",
    "HAVING COUNT(rating_id) > 50)\n",
    "GROUP BY username) AS rev_per_user\n",
    "'''\n",
    "\n",
    "pd.io.sql.read_sql(query5, con=engine)"
   ]
  },
  {
   "cell_type": "markdown",
   "id": "283da67c",
   "metadata": {},
   "source": [
    "Считаем среднее по столбцу `review_count`"
   ]
  },
  {
   "cell_type": "code",
   "execution_count": 11,
   "id": "2ef33406",
   "metadata": {},
   "outputs": [
    {
     "name": "stdout",
     "output_type": "stream",
     "text": [
      "Среднее количество обзоров от пользователей, которые поставили больше 50 оценок - 24\n"
     ]
    }
   ],
   "source": [
    "avg_reviews = pd.io.sql.read_sql(query5, con=engine).loc[0, 'avg_reviews']\n",
    "print(\n",
    "    'Среднее количество обзоров от пользователей, которые поставили больше 50 оценок - {}'.format(\n",
    "    avg_reviews)\n",
    ")"
   ]
  },
  {
   "cell_type": "markdown",
   "id": "b62fed14",
   "metadata": {},
   "source": [
    "<a id=\"general_conclusion\"></a>\n",
    "## Общий вывод"
   ]
  },
  {
   "cell_type": "markdown",
   "id": "ad380530",
   "metadata": {},
   "source": [
    "1. 819 книг вышло после 1 января 2000 года;\n",
    "2. Издательство, которое выпустило наибольшее число книг толще 50 страниц - Penguin Books;\n",
    "3. J.K. Rowling/Mary GrandPré автор с самой высокой средней оценкой книг, учитывая только книги с 50 и более оценками;\n",
    "4. Среднее количество обзоров от пользователей, которые поставили больше 50 оценок - 24."
   ]
  }
 ],
 "metadata": {
  "ExecuteTimeLog": [
   {
    "duration": 28686,
    "start_time": "2022-03-22T11:29:22.447Z"
   },
   {
    "duration": 233,
    "start_time": "2022-03-22T11:29:51.135Z"
   },
   {
    "duration": 105,
    "start_time": "2022-03-22T11:30:44.169Z"
   },
   {
    "duration": 97,
    "start_time": "2022-03-22T11:34:28.533Z"
   },
   {
    "duration": 67,
    "start_time": "2022-03-22T11:34:55.699Z"
   },
   {
    "duration": 72,
    "start_time": "2022-03-22T11:37:30.669Z"
   },
   {
    "duration": 72,
    "start_time": "2022-03-22T11:38:01.789Z"
   },
   {
    "duration": 46374,
    "start_time": "2022-03-22T13:19:42.284Z"
   },
   {
    "duration": 32,
    "start_time": "2022-03-22T13:20:28.660Z"
   },
   {
    "duration": 36,
    "start_time": "2022-03-22T13:20:28.693Z"
   },
   {
    "duration": 25,
    "start_time": "2022-03-22T13:20:28.733Z"
   },
   {
    "duration": 13,
    "start_time": "2022-03-22T13:20:28.760Z"
   },
   {
    "duration": 19,
    "start_time": "2022-03-22T13:20:28.775Z"
   },
   {
    "duration": 443,
    "start_time": "2022-03-22T13:26:02.480Z"
   },
   {
    "duration": 251,
    "start_time": "2022-03-22T13:26:29.394Z"
   },
   {
    "duration": 15,
    "start_time": "2022-03-22T13:26:50.220Z"
   },
   {
    "duration": 16,
    "start_time": "2022-03-22T13:29:40.858Z"
   },
   {
    "duration": 16,
    "start_time": "2022-03-22T13:29:53.788Z"
   },
   {
    "duration": 219,
    "start_time": "2022-03-22T13:31:15.593Z"
   },
   {
    "duration": 16,
    "start_time": "2022-03-22T13:31:41.960Z"
   },
   {
    "duration": 18,
    "start_time": "2022-03-22T13:32:22.071Z"
   },
   {
    "duration": 38,
    "start_time": "2022-03-22T13:32:32.429Z"
   },
   {
    "duration": 837,
    "start_time": "2022-03-22T13:35:02.945Z"
   },
   {
    "duration": 18,
    "start_time": "2022-03-22T13:35:26.739Z"
   },
   {
    "duration": 18,
    "start_time": "2022-03-22T13:39:18.616Z"
   },
   {
    "duration": 18,
    "start_time": "2022-03-22T13:42:33.752Z"
   },
   {
    "duration": 13,
    "start_time": "2022-03-22T13:46:17.441Z"
   },
   {
    "duration": 317,
    "start_time": "2022-03-22T13:50:35.600Z"
   },
   {
    "duration": 929,
    "start_time": "2022-03-22T13:50:49.578Z"
   },
   {
    "duration": 14,
    "start_time": "2022-03-22T13:52:54.747Z"
   },
   {
    "duration": 477,
    "start_time": "2022-03-22T13:57:10.920Z"
   },
   {
    "duration": 14,
    "start_time": "2022-03-22T13:57:31.696Z"
   },
   {
    "duration": 15,
    "start_time": "2022-03-22T14:07:54.216Z"
   },
   {
    "duration": 18,
    "start_time": "2022-03-22T14:08:30.552Z"
   },
   {
    "duration": 309,
    "start_time": "2022-03-22T14:09:07.080Z"
   },
   {
    "duration": 16,
    "start_time": "2022-03-22T14:09:23.089Z"
   },
   {
    "duration": 573,
    "start_time": "2022-03-22T14:13:38.608Z"
   },
   {
    "duration": 220,
    "start_time": "2022-03-22T14:13:46.905Z"
   },
   {
    "duration": 14,
    "start_time": "2022-03-22T14:17:26.218Z"
   },
   {
    "duration": 18,
    "start_time": "2022-03-22T14:19:17.018Z"
   },
   {
    "duration": 18,
    "start_time": "2022-03-22T14:20:04.846Z"
   },
   {
    "duration": 15,
    "start_time": "2022-03-22T14:24:22.428Z"
   },
   {
    "duration": 228,
    "start_time": "2022-03-22T14:27:25.717Z"
   },
   {
    "duration": 384,
    "start_time": "2022-03-22T14:27:35.644Z"
   },
   {
    "duration": 16,
    "start_time": "2022-03-22T14:27:42.004Z"
   },
   {
    "duration": 16,
    "start_time": "2022-03-22T14:31:10.252Z"
   },
   {
    "duration": 17,
    "start_time": "2022-03-22T14:34:17.477Z"
   },
   {
    "duration": 16,
    "start_time": "2022-03-22T14:34:36.701Z"
   },
   {
    "duration": 16,
    "start_time": "2022-03-22T14:34:42.478Z"
   },
   {
    "duration": 33,
    "start_time": "2022-03-22T14:36:16.933Z"
   },
   {
    "duration": 12,
    "start_time": "2022-03-22T14:37:32.814Z"
   },
   {
    "duration": 500,
    "start_time": "2022-03-22T14:38:17.437Z"
   },
   {
    "duration": 335,
    "start_time": "2022-03-22T14:49:50.006Z"
   },
   {
    "duration": 17,
    "start_time": "2022-03-22T14:50:01.703Z"
   },
   {
    "duration": 268,
    "start_time": "2022-03-22T14:51:40.335Z"
   },
   {
    "duration": 21,
    "start_time": "2022-03-22T14:51:51.166Z"
   },
   {
    "duration": 2,
    "start_time": "2022-03-22T15:01:04.824Z"
   },
   {
    "duration": 17,
    "start_time": "2022-03-22T15:01:16.031Z"
   },
   {
    "duration": 14,
    "start_time": "2022-03-22T15:01:38.653Z"
   },
   {
    "duration": 13,
    "start_time": "2022-03-22T15:02:43.254Z"
   },
   {
    "duration": 14,
    "start_time": "2022-03-22T15:02:49.978Z"
   },
   {
    "duration": 13,
    "start_time": "2022-03-22T15:02:56.109Z"
   },
   {
    "duration": 301,
    "start_time": "2022-03-22T15:07:37.239Z"
   },
   {
    "duration": 16,
    "start_time": "2022-03-22T15:07:53.055Z"
   },
   {
    "duration": 15,
    "start_time": "2022-03-22T15:09:43.025Z"
   },
   {
    "duration": 14,
    "start_time": "2022-03-22T15:10:24.943Z"
   },
   {
    "duration": 13,
    "start_time": "2022-03-22T15:14:15.895Z"
   },
   {
    "duration": 2,
    "start_time": "2022-03-22T15:17:40.498Z"
   },
   {
    "duration": 13,
    "start_time": "2022-03-22T15:17:54.120Z"
   },
   {
    "duration": 16,
    "start_time": "2022-03-22T15:19:00.071Z"
   },
   {
    "duration": 14,
    "start_time": "2022-03-22T15:19:12.167Z"
   },
   {
    "duration": 649,
    "start_time": "2022-03-22T15:20:35.191Z"
   },
   {
    "duration": 567,
    "start_time": "2022-03-22T15:20:44.140Z"
   },
   {
    "duration": 208,
    "start_time": "2022-03-22T15:24:47.867Z"
   },
   {
    "duration": 205,
    "start_time": "2022-03-22T15:25:04.679Z"
   },
   {
    "duration": 11,
    "start_time": "2022-03-22T15:25:21.691Z"
   },
   {
    "duration": 15,
    "start_time": "2022-03-22T15:26:35.495Z"
   },
   {
    "duration": 204,
    "start_time": "2022-03-22T15:29:33.137Z"
   },
   {
    "duration": 12,
    "start_time": "2022-03-22T15:29:38.293Z"
   },
   {
    "duration": 16,
    "start_time": "2022-03-22T15:31:43.111Z"
   },
   {
    "duration": 17,
    "start_time": "2022-03-22T15:32:07.237Z"
   },
   {
    "duration": 42110,
    "start_time": "2022-03-22T15:40:56.402Z"
   },
   {
    "duration": 28,
    "start_time": "2022-03-22T15:41:38.514Z"
   },
   {
    "duration": 4432,
    "start_time": "2022-03-22T15:41:38.544Z"
   },
   {
    "duration": 11,
    "start_time": "2022-03-22T15:41:42.979Z"
   },
   {
    "duration": 63,
    "start_time": "2022-03-22T15:41:42.991Z"
   },
   {
    "duration": 22,
    "start_time": "2022-03-22T15:41:43.056Z"
   },
   {
    "duration": 309,
    "start_time": "2022-03-22T15:41:43.080Z"
   },
   {
    "duration": 0,
    "start_time": "2022-03-22T15:41:43.391Z"
   },
   {
    "duration": 0,
    "start_time": "2022-03-22T15:41:43.393Z"
   },
   {
    "duration": 0,
    "start_time": "2022-03-22T15:41:43.394Z"
   },
   {
    "duration": 0,
    "start_time": "2022-03-22T15:41:43.396Z"
   },
   {
    "duration": 0,
    "start_time": "2022-03-22T15:41:43.397Z"
   },
   {
    "duration": 0,
    "start_time": "2022-03-22T15:41:43.398Z"
   },
   {
    "duration": 0,
    "start_time": "2022-03-22T15:41:43.399Z"
   },
   {
    "duration": 30732,
    "start_time": "2022-03-22T15:42:18.954Z"
   },
   {
    "duration": 29,
    "start_time": "2022-03-22T15:42:49.688Z"
   },
   {
    "duration": 33,
    "start_time": "2022-03-22T15:42:49.721Z"
   },
   {
    "duration": 10,
    "start_time": "2022-03-22T15:42:49.757Z"
   },
   {
    "duration": 13,
    "start_time": "2022-03-22T15:42:49.768Z"
   },
   {
    "duration": 16,
    "start_time": "2022-03-22T15:42:49.783Z"
   },
   {
    "duration": 13,
    "start_time": "2022-03-22T15:42:49.800Z"
   },
   {
    "duration": 23,
    "start_time": "2022-03-22T15:42:49.815Z"
   },
   {
    "duration": 21,
    "start_time": "2022-03-22T15:42:49.839Z"
   },
   {
    "duration": 15,
    "start_time": "2022-03-22T15:42:49.862Z"
   },
   {
    "duration": 15,
    "start_time": "2022-03-22T15:42:49.879Z"
   },
   {
    "duration": 26,
    "start_time": "2022-03-22T15:42:49.896Z"
   },
   {
    "duration": 32,
    "start_time": "2022-03-22T15:42:49.925Z"
   },
   {
    "duration": 77,
    "start_time": "2022-03-22T21:11:25.619Z"
   },
   {
    "duration": 6360,
    "start_time": "2022-03-22T21:11:33.812Z"
   },
   {
    "duration": 259,
    "start_time": "2022-03-22T21:11:40.175Z"
   },
   {
    "duration": 71,
    "start_time": "2022-03-22T21:11:40.471Z"
   },
   {
    "duration": 64,
    "start_time": "2022-03-22T21:11:45.605Z"
   },
   {
    "duration": 65,
    "start_time": "2022-03-22T21:11:51.527Z"
   },
   {
    "duration": 70,
    "start_time": "2022-03-22T21:13:03.413Z"
   },
   {
    "duration": 73,
    "start_time": "2022-03-22T21:13:04.438Z"
   },
   {
    "duration": 134,
    "start_time": "2022-03-22T21:17:09.686Z"
   },
   {
    "duration": 6041,
    "start_time": "2022-03-22T23:08:56.077Z"
   },
   {
    "duration": 208,
    "start_time": "2022-03-22T23:09:02.121Z"
   },
   {
    "duration": 112,
    "start_time": "2022-03-22T23:09:02.331Z"
   },
   {
    "duration": 64,
    "start_time": "2022-03-22T23:09:02.445Z"
   },
   {
    "duration": 69,
    "start_time": "2022-03-22T23:09:02.512Z"
   },
   {
    "duration": 72,
    "start_time": "2022-03-22T23:09:02.583Z"
   },
   {
    "duration": 69,
    "start_time": "2022-03-22T23:09:02.657Z"
   },
   {
    "duration": 73,
    "start_time": "2022-03-22T23:09:02.728Z"
   },
   {
    "duration": 72,
    "start_time": "2022-03-22T23:09:02.804Z"
   },
   {
    "duration": 67,
    "start_time": "2022-03-22T23:09:02.879Z"
   },
   {
    "duration": 68,
    "start_time": "2022-03-22T23:10:43.655Z"
   },
   {
    "duration": 5186,
    "start_time": "2022-03-22T23:13:35.476Z"
   },
   {
    "duration": 182,
    "start_time": "2022-03-22T23:13:40.665Z"
   },
   {
    "duration": 103,
    "start_time": "2022-03-22T23:13:40.849Z"
   },
   {
    "duration": 59,
    "start_time": "2022-03-22T23:13:40.955Z"
   },
   {
    "duration": 63,
    "start_time": "2022-03-22T23:13:41.016Z"
   },
   {
    "duration": 66,
    "start_time": "2022-03-22T23:13:41.081Z"
   },
   {
    "duration": 61,
    "start_time": "2022-03-22T23:13:41.150Z"
   },
   {
    "duration": 63,
    "start_time": "2022-03-22T23:13:41.214Z"
   },
   {
    "duration": 66,
    "start_time": "2022-03-22T23:13:41.279Z"
   },
   {
    "duration": 64,
    "start_time": "2022-03-22T23:13:41.349Z"
   },
   {
    "duration": 63,
    "start_time": "2022-03-22T23:13:41.415Z"
   },
   {
    "duration": 74,
    "start_time": "2022-03-23T08:05:59.924Z"
   },
   {
    "duration": 9922,
    "start_time": "2022-03-23T08:06:05.551Z"
   },
   {
    "duration": 239,
    "start_time": "2022-03-23T08:06:15.476Z"
   },
   {
    "duration": 74,
    "start_time": "2022-03-23T08:06:15.717Z"
   },
   {
    "duration": 73,
    "start_time": "2022-03-23T08:06:15.930Z"
   },
   {
    "duration": 68,
    "start_time": "2022-03-23T08:06:18.366Z"
   },
   {
    "duration": 73,
    "start_time": "2022-03-23T08:07:00.140Z"
   },
   {
    "duration": 295,
    "start_time": "2022-03-23T08:07:26.978Z"
   },
   {
    "duration": 241,
    "start_time": "2022-03-23T08:07:36.582Z"
   },
   {
    "duration": 3119,
    "start_time": "2022-03-23T08:07:43.430Z"
   },
   {
    "duration": 68,
    "start_time": "2022-03-23T08:07:46.551Z"
   },
   {
    "duration": 73,
    "start_time": "2022-03-23T08:07:55.986Z"
   },
   {
    "duration": 11170,
    "start_time": "2022-03-23T08:18:40.372Z"
   },
   {
    "duration": 29,
    "start_time": "2022-03-23T08:18:51.544Z"
   },
   {
    "duration": 30,
    "start_time": "2022-03-23T08:18:51.575Z"
   },
   {
    "duration": 9,
    "start_time": "2022-03-23T08:18:51.608Z"
   },
   {
    "duration": 10,
    "start_time": "2022-03-23T08:18:51.618Z"
   },
   {
    "duration": 13,
    "start_time": "2022-03-23T08:18:51.629Z"
   },
   {
    "duration": 10,
    "start_time": "2022-03-23T08:18:51.643Z"
   },
   {
    "duration": 11,
    "start_time": "2022-03-23T08:18:51.655Z"
   },
   {
    "duration": 13,
    "start_time": "2022-03-23T08:18:51.667Z"
   },
   {
    "duration": 12,
    "start_time": "2022-03-23T08:18:51.701Z"
   },
   {
    "duration": 23,
    "start_time": "2022-03-23T08:18:51.715Z"
   },
   {
    "duration": 11172,
    "start_time": "2022-03-23T08:19:03.302Z"
   },
   {
    "duration": 23,
    "start_time": "2022-03-23T08:19:14.476Z"
   },
   {
    "duration": 29,
    "start_time": "2022-03-23T08:19:14.500Z"
   },
   {
    "duration": 8,
    "start_time": "2022-03-23T08:19:14.531Z"
   },
   {
    "duration": 11,
    "start_time": "2022-03-23T08:19:14.541Z"
   },
   {
    "duration": 14,
    "start_time": "2022-03-23T08:19:14.553Z"
   },
   {
    "duration": 11,
    "start_time": "2022-03-23T08:19:14.568Z"
   },
   {
    "duration": 12,
    "start_time": "2022-03-23T08:19:14.580Z"
   },
   {
    "duration": 14,
    "start_time": "2022-03-23T08:19:14.600Z"
   },
   {
    "duration": 12,
    "start_time": "2022-03-23T08:19:14.617Z"
   },
   {
    "duration": 10,
    "start_time": "2022-03-23T08:19:14.631Z"
   },
   {
    "duration": 12,
    "start_time": "2022-03-23T08:21:59.621Z"
   },
   {
    "duration": 14,
    "start_time": "2022-03-23T08:23:53.884Z"
   },
   {
    "duration": 13,
    "start_time": "2022-03-23T08:27:08.067Z"
   },
   {
    "duration": 12,
    "start_time": "2022-03-23T08:27:29.316Z"
   },
   {
    "duration": 11,
    "start_time": "2022-03-23T08:29:23.236Z"
   },
   {
    "duration": 21531,
    "start_time": "2022-03-23T08:33:22.398Z"
   },
   {
    "duration": 30,
    "start_time": "2022-03-23T08:33:43.931Z"
   },
   {
    "duration": 33,
    "start_time": "2022-03-23T08:33:43.963Z"
   },
   {
    "duration": 9,
    "start_time": "2022-03-23T08:33:43.998Z"
   },
   {
    "duration": 12,
    "start_time": "2022-03-23T08:33:44.009Z"
   },
   {
    "duration": 13,
    "start_time": "2022-03-23T08:33:44.023Z"
   },
   {
    "duration": 11,
    "start_time": "2022-03-23T08:33:44.038Z"
   },
   {
    "duration": 12,
    "start_time": "2022-03-23T08:33:44.050Z"
   },
   {
    "duration": 14,
    "start_time": "2022-03-23T08:33:44.064Z"
   },
   {
    "duration": 24,
    "start_time": "2022-03-23T08:33:44.081Z"
   },
   {
    "duration": 11,
    "start_time": "2022-03-23T08:33:44.107Z"
   },
   {
    "duration": 9461,
    "start_time": "2022-03-23T11:01:16.931Z"
   },
   {
    "duration": 214,
    "start_time": "2022-03-23T11:01:27.319Z"
   },
   {
    "duration": 61,
    "start_time": "2022-03-23T11:01:29.330Z"
   }
  ],
  "kernelspec": {
   "display_name": "Python 3 (ipykernel)",
   "language": "python",
   "name": "python3"
  },
  "language_info": {
   "codemirror_mode": {
    "name": "ipython",
    "version": 3
   },
   "file_extension": ".py",
   "mimetype": "text/x-python",
   "name": "python",
   "nbconvert_exporter": "python",
   "pygments_lexer": "ipython3",
   "version": "3.9.2"
  },
  "toc": {
   "base_numbering": 1,
   "nav_menu": {},
   "number_sections": true,
   "sideBar": true,
   "skip_h1_title": true,
   "title_cell": "Table of Contents",
   "title_sidebar": "Contents",
   "toc_cell": false,
   "toc_position": {},
   "toc_section_display": true,
   "toc_window_display": false
  }
 },
 "nbformat": 4,
 "nbformat_minor": 5
}

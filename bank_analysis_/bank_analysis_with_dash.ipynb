{
 "cells": [
  {
   "cell_type": "markdown",
   "metadata": {},
   "source": [
    "# Анализ оттока клиентов банка \"Метанпром\""
   ]
  },
  {
   "cell_type": "markdown",
   "metadata": {},
   "source": [
    "В данной работе будет произведен анализ клиентов регионального банка \"Метанпром\", а также будут выделены портреты клиентов, которые склонны уходить из банка"
   ]
  },
  {
   "cell_type": "markdown",
   "metadata": {},
   "source": [
    "## Материалы\n",
    "* [Презентация](https://drive.google.com/file/d/177kiz5y-qerMdkAht6qMr59_u891ZfjC/view?usp=sharing)\n",
    "* [Дашборд](https://public.tableau.com/views/Clienst_Salary_Dash/Clients_Salary_DASH?:language=en-US&publish=yes&:display_count=n&:origin=viz_share_link)"
   ]
  },
  {
   "cell_type": "markdown",
   "metadata": {},
   "source": [
    "# Описание данных\n",
    "Датасет содержит данные о клиентах банка «Метанпром». Банк располагается в Ярославле и областных городах: Ростов Великий и Рыбинск. Набор данных включает следующие поля:\n",
    "- `userid` — идентификатор пользователя,\n",
    "- `score` — баллы кредитного скоринга,\n",
    "- `City` — город,\n",
    "- `Gender` — пол,\n",
    "- `Age` — возраст,\n",
    "- `Objects` — количество объектов в собственности,\n",
    "- `Balance` — баланс на счёте,\n",
    "- `Products` — количество продуктов, которыми пользуется клиент,\n",
    "- `CreditCard` — есть ли кредитная карта,\n",
    "- `Loyalty` — активный клиент,\n",
    "- `estimated_salary` — заработная плата клиента,\n",
    "- `Churn` — ушёл или нет."
   ]
  },
  {
   "cell_type": "markdown",
   "metadata": {},
   "source": [
    "# Содержание\n",
    "1. [Загрузка и начальная предобработка данных](#loading_and_preprocessing)\n",
    "    * [Вывод](#conclusion1)\n",
    "2. [Исследовательский анализ данных (EDA)](#analysis)\n",
    "    * [Вывод](#conclusion2)\n",
    "3. [Построение моделей прогнозирования оттока клиентов](#models_building)\n",
    "    * [Вывод](#conclusion3)\n",
    "4. [Кластеризацая клиентов](#clients_clustering)\n",
    "    * [Вывод](#conclusion4)\n",
    "5. [Проверка гипотез](#hypothesis_testing)\n",
    "    * [Вывод](#conclusion5)\n",
    "6. [Выводы и рекомендации](#conclusion_and_recommendations)"
   ]
  },
  {
   "cell_type": "markdown",
   "metadata": {},
   "source": [
    "<a id=\"loading_and_preprocessing\"></a>\n",
    "## Загрузка и начальная предобработка данных"
   ]
  },
  {
   "cell_type": "markdown",
   "metadata": {},
   "source": [
    "Импортируем необходимые для работы библиотеки"
   ]
  },
  {
   "cell_type": "code",
   "execution_count": 1,
   "metadata": {
    "code_folding": [
     7
    ]
   },
   "outputs": [],
   "source": [
    "import pandas as pd\n",
    "from scipy import stats as st\n",
    "import numpy as np\n",
    "from scipy.cluster.hierarchy import dendrogram, linkage\n",
    "from sklearn.cluster import KMeans\n",
    "from sklearn.linear_model import LogisticRegression\n",
    "from sklearn.ensemble import RandomForestClassifier\n",
    "from sklearn.preprocessing import StandardScaler\n",
    "from sklearn.metrics import accuracy_score, precision_score, recall_score, roc_auc_score\n",
    "from sklearn.model_selection import train_test_split\n",
    "from matplotlib import pyplot as plt\n",
    "import seaborn as sns\n",
    "import sys\n",
    "import warnings\n",
    "if not sys.warnoptions:\n",
    "    warnings.simplefilter(\"ignore\")\n",
    "pd.set_option(\"display.precision\", 2)"
   ]
  },
  {
   "cell_type": "markdown",
   "metadata": {},
   "source": [
    "Датасет хранится в папке `datasets`"
   ]
  },
  {
   "cell_type": "code",
   "execution_count": 2,
   "metadata": {
    "code_folding": [
     1
    ]
   },
   "outputs": [],
   "source": [
    "bank_data = pd.read_csv('datasets/bank_dataset.csv')"
   ]
  },
  {
   "cell_type": "markdown",
   "metadata": {},
   "source": [
    "<b>Исследуем данные датасета</b>"
   ]
  },
  {
   "cell_type": "code",
   "execution_count": 3,
   "metadata": {
    "code_folding": [
     0
    ]
   },
   "outputs": [],
   "source": [
    "def data_info(data: pd.DataFrame) -> None:\n",
    "    '''\n",
    "    Функция принимает на вход датафрейм пандас.\n",
    "    Данные на выходе:\n",
    "    - Первые пять строк датасета;\n",
    "    - Подробная информация о датасете;\n",
    "    - Количество пропущенных значений в датасете;\n",
    "    - Количество дубликатов в датасете.\n",
    "    '''\n",
    "    display(data.head())\n",
    "    print(data.info())\n",
    "    print(\n",
    "        f'Количество пропущенных значений в датасете - {data.isna().sum().sum()}')\n",
    "    print(f'Количество дубликатов в датасете - {data.duplicated().sum()}')"
   ]
  },
  {
   "cell_type": "code",
   "execution_count": 4,
   "metadata": {},
   "outputs": [
    {
     "data": {
      "text/html": [
       "<div>\n",
       "<style scoped>\n",
       "    .dataframe tbody tr th:only-of-type {\n",
       "        vertical-align: middle;\n",
       "    }\n",
       "\n",
       "    .dataframe tbody tr th {\n",
       "        vertical-align: top;\n",
       "    }\n",
       "\n",
       "    .dataframe thead th {\n",
       "        text-align: right;\n",
       "    }\n",
       "</style>\n",
       "<table border=\"1\" class=\"dataframe\">\n",
       "  <thead>\n",
       "    <tr style=\"text-align: right;\">\n",
       "      <th></th>\n",
       "      <th>userid</th>\n",
       "      <th>score</th>\n",
       "      <th>City</th>\n",
       "      <th>Gender</th>\n",
       "      <th>Age</th>\n",
       "      <th>Objects</th>\n",
       "      <th>Balance</th>\n",
       "      <th>Products</th>\n",
       "      <th>CreditCard</th>\n",
       "      <th>Loyalty</th>\n",
       "      <th>estimated_salary</th>\n",
       "      <th>Churn</th>\n",
       "    </tr>\n",
       "  </thead>\n",
       "  <tbody>\n",
       "    <tr>\n",
       "      <th>0</th>\n",
       "      <td>15677338</td>\n",
       "      <td>619</td>\n",
       "      <td>Ярославль</td>\n",
       "      <td>Ж</td>\n",
       "      <td>42</td>\n",
       "      <td>2</td>\n",
       "      <td>NaN</td>\n",
       "      <td>1</td>\n",
       "      <td>1</td>\n",
       "      <td>1</td>\n",
       "      <td>101348.88</td>\n",
       "      <td>1</td>\n",
       "    </tr>\n",
       "    <tr>\n",
       "      <th>1</th>\n",
       "      <td>15690047</td>\n",
       "      <td>608</td>\n",
       "      <td>Рыбинск</td>\n",
       "      <td>Ж</td>\n",
       "      <td>41</td>\n",
       "      <td>1</td>\n",
       "      <td>83807.86</td>\n",
       "      <td>1</td>\n",
       "      <td>0</td>\n",
       "      <td>1</td>\n",
       "      <td>112542.58</td>\n",
       "      <td>0</td>\n",
       "    </tr>\n",
       "    <tr>\n",
       "      <th>2</th>\n",
       "      <td>15662040</td>\n",
       "      <td>502</td>\n",
       "      <td>Ярославль</td>\n",
       "      <td>Ж</td>\n",
       "      <td>42</td>\n",
       "      <td>8</td>\n",
       "      <td>159660.80</td>\n",
       "      <td>3</td>\n",
       "      <td>1</td>\n",
       "      <td>0</td>\n",
       "      <td>113931.57</td>\n",
       "      <td>1</td>\n",
       "    </tr>\n",
       "    <tr>\n",
       "      <th>3</th>\n",
       "      <td>15744090</td>\n",
       "      <td>699</td>\n",
       "      <td>Ярославль</td>\n",
       "      <td>Ж</td>\n",
       "      <td>39</td>\n",
       "      <td>1</td>\n",
       "      <td>NaN</td>\n",
       "      <td>2</td>\n",
       "      <td>0</td>\n",
       "      <td>0</td>\n",
       "      <td>93826.63</td>\n",
       "      <td>0</td>\n",
       "    </tr>\n",
       "    <tr>\n",
       "      <th>4</th>\n",
       "      <td>15780624</td>\n",
       "      <td>850</td>\n",
       "      <td>Рыбинск</td>\n",
       "      <td>Ж</td>\n",
       "      <td>43</td>\n",
       "      <td>2</td>\n",
       "      <td>125510.82</td>\n",
       "      <td>1</td>\n",
       "      <td>1</td>\n",
       "      <td>1</td>\n",
       "      <td>79084.10</td>\n",
       "      <td>0</td>\n",
       "    </tr>\n",
       "  </tbody>\n",
       "</table>\n",
       "</div>"
      ],
      "text/plain": [
       "     userid  score       City Gender  Age  Objects    Balance  Products  \\\n",
       "0  15677338    619  Ярославль      Ж   42        2        NaN         1   \n",
       "1  15690047    608    Рыбинск      Ж   41        1   83807.86         1   \n",
       "2  15662040    502  Ярославль      Ж   42        8  159660.80         3   \n",
       "3  15744090    699  Ярославль      Ж   39        1        NaN         2   \n",
       "4  15780624    850    Рыбинск      Ж   43        2  125510.82         1   \n",
       "\n",
       "   CreditCard  Loyalty  estimated_salary  Churn  \n",
       "0           1        1         101348.88      1  \n",
       "1           0        1         112542.58      0  \n",
       "2           1        0         113931.57      1  \n",
       "3           0        0          93826.63      0  \n",
       "4           1        1          79084.10      0  "
      ]
     },
     "metadata": {},
     "output_type": "display_data"
    },
    {
     "name": "stdout",
     "output_type": "stream",
     "text": [
      "<class 'pandas.core.frame.DataFrame'>\n",
      "RangeIndex: 10000 entries, 0 to 9999\n",
      "Data columns (total 12 columns):\n",
      " #   Column            Non-Null Count  Dtype  \n",
      "---  ------            --------------  -----  \n",
      " 0   userid            10000 non-null  int64  \n",
      " 1   score             10000 non-null  int64  \n",
      " 2   City              10000 non-null  object \n",
      " 3   Gender            10000 non-null  object \n",
      " 4   Age               10000 non-null  int64  \n",
      " 5   Objects           10000 non-null  int64  \n",
      " 6   Balance           6383 non-null   float64\n",
      " 7   Products          10000 non-null  int64  \n",
      " 8   CreditCard        10000 non-null  int64  \n",
      " 9   Loyalty           10000 non-null  int64  \n",
      " 10  estimated_salary  10000 non-null  float64\n",
      " 11  Churn             10000 non-null  int64  \n",
      "dtypes: float64(2), int64(8), object(2)\n",
      "memory usage: 937.6+ KB\n",
      "None\n",
      "Количество пропущенных значений в датасете - 3617\n",
      "Количество дубликатов в датасете - 0\n"
     ]
    }
   ],
   "source": [
    "data_info(bank_data)"
   ]
  },
  {
   "cell_type": "markdown",
   "metadata": {},
   "source": [
    "Дубликатов в данных нет, но присутсвуют пропущенные значения в cтолбце `Balance`. Также следует привести названия столбцов к нижнему регистру."
   ]
  },
  {
   "cell_type": "markdown",
   "metadata": {},
   "source": [
    "<b>Приведем названия столбцов датасета к нижнему регистру</b>"
   ]
  },
  {
   "cell_type": "code",
   "execution_count": 5,
   "metadata": {
    "code_folding": [
     0
    ]
   },
   "outputs": [],
   "source": [
    "def lower_columns(data: pd.DataFrame) -> list:\n",
    "    '''\n",
    "    Функция принимает на вход датафрейм пандас.\n",
    "    Выходные данные - список из названий столбцов,\n",
    "    приведенных к нижнему регистру.\n",
    "    '''\n",
    "    return [col.lower() for col in data.columns]"
   ]
  },
  {
   "cell_type": "code",
   "execution_count": 6,
   "metadata": {},
   "outputs": [
    {
     "data": {
      "text/plain": [
       "Index(['userid', 'score', 'city', 'gender', 'age', 'objects', 'balance',\n",
       "       'products', 'creditcard', 'loyalty', 'estimated_salary', 'churn'],\n",
       "      dtype='object')"
      ]
     },
     "execution_count": 6,
     "metadata": {},
     "output_type": "execute_result"
    }
   ],
   "source": [
    "bank_data.columns = lower_columns(bank_data)\n",
    "bank_data.columns"
   ]
  },
  {
   "cell_type": "markdown",
   "metadata": {},
   "source": [
    "<b>Исследуем столбец `balance`</b>"
   ]
  },
  {
   "cell_type": "markdown",
   "metadata": {},
   "source": [
    "Посмотрим на статистические характеристики"
   ]
  },
  {
   "cell_type": "code",
   "execution_count": 7,
   "metadata": {},
   "outputs": [
    {
     "data": {
      "text/plain": [
       "count      6383.00\n",
       "mean     119827.49\n",
       "std       30095.06\n",
       "min        3768.69\n",
       "25%      100181.98\n",
       "50%      119839.69\n",
       "75%      139512.29\n",
       "max      250898.09\n",
       "Name: balance, dtype: float64"
      ]
     },
     "execution_count": 7,
     "metadata": {},
     "output_type": "execute_result"
    }
   ],
   "source": [
    "bank_data['balance'].describe()"
   ]
  },
  {
   "cell_type": "markdown",
   "metadata": {},
   "source": [
    "Среднее и медианное значения практически не отличаются"
   ]
  },
  {
   "cell_type": "markdown",
   "metadata": {},
   "source": [
    "Посмотрим на пропуски в разрезе по всем признакам"
   ]
  },
  {
   "cell_type": "code",
   "execution_count": 8,
   "metadata": {},
   "outputs": [
    {
     "name": "stdout",
     "output_type": "stream",
     "text": [
      "Пропущенных занчений в столбце userid: 0\n",
      "Пропущенных занчений в столбце score: 0\n",
      "Пропущенных занчений в столбце city: 0\n",
      "Пропущенных занчений в столбце gender: 0\n",
      "Пропущенных занчений в столбце age: 0\n",
      "Пропущенных занчений в столбце objects: 0\n",
      "Пропущенных занчений в столбце balance: 3617\n",
      "Пропущенных занчений в столбце products: 0\n",
      "Пропущенных занчений в столбце creditcard: 0\n",
      "Пропущенных занчений в столбце loyalty: 0\n",
      "Пропущенных занчений в столбце estimated_salary: 0\n",
      "Пропущенных занчений в столбце churn: 0\n"
     ]
    }
   ],
   "source": [
    "for column in bank_data.columns:\n",
    "    print(f'Пропущенных занчений в столбце {column}: {bank_data[column].isna().sum()}')"
   ]
  },
  {
   "cell_type": "markdown",
   "metadata": {},
   "source": [
    "Посмотрим какие клиенты присутсвуют в данных с пропущенными значениями"
   ]
  },
  {
   "cell_type": "code",
   "execution_count": 9,
   "metadata": {},
   "outputs": [
    {
     "data": {
      "text/plain": [
       "0    0.86\n",
       "1    0.14\n",
       "Name: churn, dtype: float64"
      ]
     },
     "execution_count": 9,
     "metadata": {},
     "output_type": "execute_result"
    }
   ],
   "source": [
    "bank_data.query('balance.isna()')['churn'].value_counts(normalize=True)"
   ]
  },
  {
   "cell_type": "markdown",
   "metadata": {},
   "source": [
    "Основная часть клиентов относится к неоттоковым(> 80%), и только 14% относится к оттоковым. Так как пропущенных данных много, их нельзя удалять из датасета. Можно предположить, что это либо новые клиенты, которые еще не пользовались банком, либо те, которые перестали пользоваться банком. Но \"занулять\" пропуски не стоит, так как это отразиться на среднем значении датасета.<br>\n",
    "Исходя из того, что медианное и среднее значения практически одинаковые, можно заполнить средним значением пропуски относительно группы `objects` - количество объектов в собственности"
   ]
  },
  {
   "cell_type": "code",
   "execution_count": 10,
   "metadata": {
    "code_folding": []
   },
   "outputs": [],
   "source": [
    "bank_data['balance'] = bank_data['balance'].fillna(\n",
    "    bank_data.groupby('objects')['balance'].transform('mean'))"
   ]
  },
  {
   "cell_type": "code",
   "execution_count": 11,
   "metadata": {},
   "outputs": [
    {
     "data": {
      "text/html": [
       "<div>\n",
       "<style scoped>\n",
       "    .dataframe tbody tr th:only-of-type {\n",
       "        vertical-align: middle;\n",
       "    }\n",
       "\n",
       "    .dataframe tbody tr th {\n",
       "        vertical-align: top;\n",
       "    }\n",
       "\n",
       "    .dataframe thead th {\n",
       "        text-align: right;\n",
       "    }\n",
       "</style>\n",
       "<table border=\"1\" class=\"dataframe\">\n",
       "  <thead>\n",
       "    <tr style=\"text-align: right;\">\n",
       "      <th></th>\n",
       "      <th>userid</th>\n",
       "      <th>score</th>\n",
       "      <th>city</th>\n",
       "      <th>gender</th>\n",
       "      <th>age</th>\n",
       "      <th>objects</th>\n",
       "      <th>balance</th>\n",
       "      <th>products</th>\n",
       "      <th>creditcard</th>\n",
       "      <th>loyalty</th>\n",
       "      <th>estimated_salary</th>\n",
       "      <th>churn</th>\n",
       "    </tr>\n",
       "  </thead>\n",
       "  <tbody>\n",
       "    <tr>\n",
       "      <th>0</th>\n",
       "      <td>15677338</td>\n",
       "      <td>619</td>\n",
       "      <td>Ярославль</td>\n",
       "      <td>Ж</td>\n",
       "      <td>42</td>\n",
       "      <td>2</td>\n",
       "      <td>120912.81</td>\n",
       "      <td>1</td>\n",
       "      <td>1</td>\n",
       "      <td>1</td>\n",
       "      <td>101348.88</td>\n",
       "      <td>1</td>\n",
       "    </tr>\n",
       "    <tr>\n",
       "      <th>1</th>\n",
       "      <td>15690047</td>\n",
       "      <td>608</td>\n",
       "      <td>Рыбинск</td>\n",
       "      <td>Ж</td>\n",
       "      <td>41</td>\n",
       "      <td>1</td>\n",
       "      <td>83807.86</td>\n",
       "      <td>1</td>\n",
       "      <td>0</td>\n",
       "      <td>1</td>\n",
       "      <td>112542.58</td>\n",
       "      <td>0</td>\n",
       "    </tr>\n",
       "    <tr>\n",
       "      <th>2</th>\n",
       "      <td>15662040</td>\n",
       "      <td>502</td>\n",
       "      <td>Ярославль</td>\n",
       "      <td>Ж</td>\n",
       "      <td>42</td>\n",
       "      <td>8</td>\n",
       "      <td>159660.80</td>\n",
       "      <td>3</td>\n",
       "      <td>1</td>\n",
       "      <td>0</td>\n",
       "      <td>113931.57</td>\n",
       "      <td>1</td>\n",
       "    </tr>\n",
       "    <tr>\n",
       "      <th>3</th>\n",
       "      <td>15744090</td>\n",
       "      <td>699</td>\n",
       "      <td>Ярославль</td>\n",
       "      <td>Ж</td>\n",
       "      <td>39</td>\n",
       "      <td>1</td>\n",
       "      <td>118520.15</td>\n",
       "      <td>2</td>\n",
       "      <td>0</td>\n",
       "      <td>0</td>\n",
       "      <td>93826.63</td>\n",
       "      <td>0</td>\n",
       "    </tr>\n",
       "    <tr>\n",
       "      <th>4</th>\n",
       "      <td>15780624</td>\n",
       "      <td>850</td>\n",
       "      <td>Рыбинск</td>\n",
       "      <td>Ж</td>\n",
       "      <td>43</td>\n",
       "      <td>2</td>\n",
       "      <td>125510.82</td>\n",
       "      <td>1</td>\n",
       "      <td>1</td>\n",
       "      <td>1</td>\n",
       "      <td>79084.10</td>\n",
       "      <td>0</td>\n",
       "    </tr>\n",
       "  </tbody>\n",
       "</table>\n",
       "</div>"
      ],
      "text/plain": [
       "     userid  score       city gender  age  objects    balance  products  \\\n",
       "0  15677338    619  Ярославль      Ж   42        2  120912.81         1   \n",
       "1  15690047    608    Рыбинск      Ж   41        1   83807.86         1   \n",
       "2  15662040    502  Ярославль      Ж   42        8  159660.80         3   \n",
       "3  15744090    699  Ярославль      Ж   39        1  118520.15         2   \n",
       "4  15780624    850    Рыбинск      Ж   43        2  125510.82         1   \n",
       "\n",
       "   creditcard  loyalty  estimated_salary  churn  \n",
       "0           1        1         101348.88      1  \n",
       "1           0        1         112542.58      0  \n",
       "2           1        0         113931.57      1  \n",
       "3           0        0          93826.63      0  \n",
       "4           1        1          79084.10      0  "
      ]
     },
     "metadata": {},
     "output_type": "display_data"
    },
    {
     "name": "stdout",
     "output_type": "stream",
     "text": [
      "<class 'pandas.core.frame.DataFrame'>\n",
      "RangeIndex: 10000 entries, 0 to 9999\n",
      "Data columns (total 12 columns):\n",
      " #   Column            Non-Null Count  Dtype  \n",
      "---  ------            --------------  -----  \n",
      " 0   userid            10000 non-null  int64  \n",
      " 1   score             10000 non-null  int64  \n",
      " 2   city              10000 non-null  object \n",
      " 3   gender            10000 non-null  object \n",
      " 4   age               10000 non-null  int64  \n",
      " 5   objects           10000 non-null  int64  \n",
      " 6   balance           10000 non-null  float64\n",
      " 7   products          10000 non-null  int64  \n",
      " 8   creditcard        10000 non-null  int64  \n",
      " 9   loyalty           10000 non-null  int64  \n",
      " 10  estimated_salary  10000 non-null  float64\n",
      " 11  churn             10000 non-null  int64  \n",
      "dtypes: float64(2), int64(8), object(2)\n",
      "memory usage: 937.6+ KB\n",
      "None\n",
      "Количество пропущенных значений в датасете - 0\n",
      "Количество дубликатов в датасете - 0\n"
     ]
    }
   ],
   "source": [
    "data_info(bank_data)"
   ]
  },
  {
   "cell_type": "markdown",
   "metadata": {},
   "source": [
    "<a id=\"conclusion1\"></a>\n",
    "### Вывод"
   ]
  },
  {
   "cell_type": "markdown",
   "metadata": {},
   "source": [
    "- Дубликаты в данных не обнаружены, типы столбцов соответсвуют ожиданиям;\n",
    "- Пропущенные значения в столбце `balance` заполнены средним значенеим отсносительно группы `objects`;\n",
    "- Названия столбцов приведены к нижнему регистру."
   ]
  },
  {
   "cell_type": "markdown",
   "metadata": {},
   "source": [
    "<a id=\"analysis\"></a>\n",
    "## Исследовательский анализ данных (EDA)"
   ]
  },
  {
   "cell_type": "markdown",
   "metadata": {},
   "source": [
    "<b>Изучим средние значения и стандартные отклонения. Определим портрет среднестатистического клиента</b>"
   ]
  },
  {
   "cell_type": "code",
   "execution_count": 12,
   "metadata": {},
   "outputs": [
    {
     "data": {
      "text/html": [
       "<div>\n",
       "<style scoped>\n",
       "    .dataframe tbody tr th:only-of-type {\n",
       "        vertical-align: middle;\n",
       "    }\n",
       "\n",
       "    .dataframe tbody tr th {\n",
       "        vertical-align: top;\n",
       "    }\n",
       "\n",
       "    .dataframe thead th {\n",
       "        text-align: right;\n",
       "    }\n",
       "</style>\n",
       "<table border=\"1\" class=\"dataframe\">\n",
       "  <thead>\n",
       "    <tr style=\"text-align: right;\">\n",
       "      <th></th>\n",
       "      <th>mean</th>\n",
       "      <th>std</th>\n",
       "    </tr>\n",
       "  </thead>\n",
       "  <tbody>\n",
       "    <tr>\n",
       "      <th>score</th>\n",
       "      <td>650.53</td>\n",
       "      <td>96.65</td>\n",
       "    </tr>\n",
       "    <tr>\n",
       "      <th>age</th>\n",
       "      <td>38.92</td>\n",
       "      <td>10.49</td>\n",
       "    </tr>\n",
       "    <tr>\n",
       "      <th>objects</th>\n",
       "      <td>5.01</td>\n",
       "      <td>2.89</td>\n",
       "    </tr>\n",
       "    <tr>\n",
       "      <th>balance</th>\n",
       "      <td>119835.57</td>\n",
       "      <td>24056.92</td>\n",
       "    </tr>\n",
       "    <tr>\n",
       "      <th>products</th>\n",
       "      <td>1.53</td>\n",
       "      <td>0.58</td>\n",
       "    </tr>\n",
       "    <tr>\n",
       "      <th>creditcard</th>\n",
       "      <td>0.71</td>\n",
       "      <td>0.46</td>\n",
       "    </tr>\n",
       "    <tr>\n",
       "      <th>loyalty</th>\n",
       "      <td>0.52</td>\n",
       "      <td>0.50</td>\n",
       "    </tr>\n",
       "    <tr>\n",
       "      <th>estimated_salary</th>\n",
       "      <td>100090.24</td>\n",
       "      <td>57510.49</td>\n",
       "    </tr>\n",
       "    <tr>\n",
       "      <th>churn</th>\n",
       "      <td>0.20</td>\n",
       "      <td>0.40</td>\n",
       "    </tr>\n",
       "  </tbody>\n",
       "</table>\n",
       "</div>"
      ],
      "text/plain": [
       "                       mean       std\n",
       "score                650.53     96.65\n",
       "age                   38.92     10.49\n",
       "objects                5.01      2.89\n",
       "balance           119835.57  24056.92\n",
       "products               1.53      0.58\n",
       "creditcard             0.71      0.46\n",
       "loyalty                0.52      0.50\n",
       "estimated_salary  100090.24  57510.49\n",
       "churn                  0.20      0.40"
      ]
     },
     "execution_count": 12,
     "metadata": {},
     "output_type": "execute_result"
    }
   ],
   "source": [
    "bank_data.drop(['userid'], axis=1).describe().loc[['mean', 'std']].T"
   ]
  },
  {
   "cell_type": "markdown",
   "metadata": {},
   "source": [
    "Портрет среднестатистического клиента:\n",
    "- Возратс клиента - 39 лет;\n",
    "- Количество объектов в собственности - 5 объектов;\n",
    "- Баланс на счете - примерно 120 тыс. руб.;\n",
    "- Количество продуктов, которыми пользуется клиент - 2 продукта;\n",
    "- Большая вероятность использования кредитной карты(>70%);\n",
    "- Практически равные доли активности/неактивности клиента;\n",
    "- Заработная плата клиента - 100 тыс. руб.;"
   ]
  },
  {
   "cell_type": "markdown",
   "metadata": {},
   "source": [
    "<b>Посмотрим на средние значения признаков в двух группах — тех, кто ушел в отток и тех, кто остался</b>"
   ]
  },
  {
   "cell_type": "code",
   "execution_count": 13,
   "metadata": {},
   "outputs": [
    {
     "data": {
      "text/html": [
       "<div>\n",
       "<style scoped>\n",
       "    .dataframe tbody tr th:only-of-type {\n",
       "        vertical-align: middle;\n",
       "    }\n",
       "\n",
       "    .dataframe tbody tr th {\n",
       "        vertical-align: top;\n",
       "    }\n",
       "\n",
       "    .dataframe thead th {\n",
       "        text-align: right;\n",
       "    }\n",
       "</style>\n",
       "<table border=\"1\" class=\"dataframe\">\n",
       "  <thead>\n",
       "    <tr style=\"text-align: right;\">\n",
       "      <th>churn</th>\n",
       "      <th>0</th>\n",
       "      <th>1</th>\n",
       "    </tr>\n",
       "  </thead>\n",
       "  <tbody>\n",
       "    <tr>\n",
       "      <th>score</th>\n",
       "      <td>651.85</td>\n",
       "      <td>645.35</td>\n",
       "    </tr>\n",
       "    <tr>\n",
       "      <th>age</th>\n",
       "      <td>37.41</td>\n",
       "      <td>44.84</td>\n",
       "    </tr>\n",
       "    <tr>\n",
       "      <th>objects</th>\n",
       "      <td>5.03</td>\n",
       "      <td>4.93</td>\n",
       "    </tr>\n",
       "    <tr>\n",
       "      <th>balance</th>\n",
       "      <td>119665.81</td>\n",
       "      <td>120499.18</td>\n",
       "    </tr>\n",
       "    <tr>\n",
       "      <th>products</th>\n",
       "      <td>1.54</td>\n",
       "      <td>1.48</td>\n",
       "    </tr>\n",
       "    <tr>\n",
       "      <th>creditcard</th>\n",
       "      <td>0.71</td>\n",
       "      <td>0.70</td>\n",
       "    </tr>\n",
       "    <tr>\n",
       "      <th>loyalty</th>\n",
       "      <td>0.55</td>\n",
       "      <td>0.36</td>\n",
       "    </tr>\n",
       "    <tr>\n",
       "      <th>estimated_salary</th>\n",
       "      <td>99738.39</td>\n",
       "      <td>101465.68</td>\n",
       "    </tr>\n",
       "  </tbody>\n",
       "</table>\n",
       "</div>"
      ],
      "text/plain": [
       "churn                     0          1\n",
       "score                651.85     645.35\n",
       "age                   37.41      44.84\n",
       "objects                5.03       4.93\n",
       "balance           119665.81  120499.18\n",
       "products               1.54       1.48\n",
       "creditcard             0.71       0.70\n",
       "loyalty                0.55       0.36\n",
       "estimated_salary   99738.39  101465.68"
      ]
     },
     "execution_count": 13,
     "metadata": {},
     "output_type": "execute_result"
    }
   ],
   "source": [
    "bank_data.drop(['userid'], axis=1).groupby('churn').mean().T"
   ]
  },
  {
   "cell_type": "markdown",
   "metadata": {},
   "source": [
    "Сходства в двух группах по средним значениям параметров:\n",
    "- Примерно одинаковые значения кредитного скоринга(645-651);\n",
    "- Примерно одинаковое количество объектов собственности(5шт.);\n",
    "- Довольно близкие значения по балансу на счёте в банке(120 тыс.руб.);\n",
    "- Количество продуктов, которыми пользуется клиент в двух группах примерно одинаковые(2);\n",
    "- Вероятность использования кредитных карт(70%-71%) в дувх группах сильно схожи;\n",
    "- Размер заработной платы примерно одинаковый(100 тыс.руб).\n",
    "<br><br>\n",
    "Различия в двух группах(надежной группы относительно группы оттока) по средним значениям параметров:\n",
    "<br><br>\n",
    "- Отличие в возрасте примерно на 7 лет(38-45);\n",
    "- Отличие в активности клиента на 20%."
   ]
  },
  {
   "cell_type": "markdown",
   "metadata": {},
   "source": [
    "<b>Построим столбчатые гистограммы и распределения признаков для тех, кто ушёл (отток) и тех, кто остался (не попали в отток), а также отобразим матрицу корреляций</b>"
   ]
  },
  {
   "cell_type": "code",
   "execution_count": 14,
   "metadata": {
    "code_folding": [
     0
    ]
   },
   "outputs": [],
   "source": [
    "def analysis(data: pd.DataFrame) -> None:\n",
    "    '''\n",
    "    Функция для построения гистограмм\n",
    "    для каждого параметра и матрицы корреляций\n",
    "    '''\n",
    "    # строим гистограммы для каждого исследуемого параметра\n",
    "    fig, axes = plt.subplots(2, 5)\n",
    "    fig.set_size_inches(30, 15)\n",
    "    axes = axes.ravel()\n",
    "    i = 0\n",
    "    for column in data:\n",
    "        axes[i].hist(data[column], edgecolor='black',\n",
    "                     fill=True, facecolor='purple', bins=20)\n",
    "        axes[i].set(title='Гистограмма по столбцу ' + column)\n",
    "        i += 1\n",
    "    fig.show()\n",
    "\n",
    "    cm = data.corr()  # вычисляем матрицу корреляций\n",
    "    plt.figure(figsize=(12, 12))\n",
    "    # нарисуем тепловую карту с подписями для матрицы корреляций\n",
    "    sns.heatmap(data=cm, annot=True)"
   ]
  },
  {
   "cell_type": "markdown",
   "metadata": {},
   "source": [
    "Построим графики и матрцицу корреляций для тех, кто <b>не ушел в отток</b>"
   ]
  },
  {
   "cell_type": "code",
   "execution_count": 15,
   "metadata": {},
   "outputs": [
    {
     "data": {
      "image/png": "[encoded data removed]",
      "text/plain": [
       "<Figure size 2160x1080 with 10 Axes>"
      ]
     },
     "metadata": {
      "needs_background": "light"
     },
     "output_type": "display_data"
    },
    {
     "data": {
      "image/png": "[encoded data removed]",
      "text/plain": [
       "<Figure size 864x864 with 2 Axes>"
      ]
     },
     "metadata": {
      "needs_background": "light"
     },
     "output_type": "display_data"
    }
   ],
   "source": [
    "analysis(bank_data.drop(['userid'], axis=1).query(\n",
    "    'churn==0').drop(['churn'], axis=1))"
   ]
  },
  {
   "cell_type": "markdown",
   "metadata": {},
   "source": [
    "Построим графики и матрцицу корреляций для тех, кто <b>ушел в отток</b>"
   ]
  },
  {
   "cell_type": "code",
   "execution_count": 16,
   "metadata": {},
   "outputs": [
    {
     "data": {
      "image/png": "[encoded data removed]",
      "text/plain": [
       "<Figure size 2160x1080 with 10 Axes>"
      ]
     },
     "metadata": {
      "needs_background": "light"
     },
     "output_type": "display_data"
    },
    {
     "data": {
      "image/png": "[encoded data removed]",
      "text/plain": [
       "<Figure size 864x864 with 2 Axes>"
      ]
     },
     "metadata": {
      "needs_background": "light"
     },
     "output_type": "display_data"
    }
   ],
   "source": [
    "analysis(bank_data.drop(['userid'], axis=1).query(\n",
    "    'churn==1').drop(['churn'], axis=1))"
   ]
  },
  {
   "cell_type": "markdown",
   "metadata": {},
   "source": [
    "По диаграммам можно сделать следующие выводы:\n",
    "- Высокая вероятность оттока у клиентов, которые проживают в Ярославле и Ростове Великом;\n",
    "- У клиентов женского пола больше вероятность к оттоку;\n",
    "- Клиенты в возрасте от 40-50 лет имеют тенденцию к оттоку;\n",
    "- Высокая вероятность оттока у клиентов, которые пользуются только одним продуктом банка;\n",
    "- Клиенты, которые владеют кредитной картой и являются не совсем активными, имееют тенденцию к оттоку.\n",
    "<br><br>\n",
    "Также можно заметить выбросы на некоторых признаках(`balance`, `age`, `score`). Но так как мы работаем с выборкой(срезом данных), удалив выбросы мы можем потерять много данных, что сделает нашу выборку нерепрезентативной."
   ]
  },
  {
   "cell_type": "markdown",
   "metadata": {},
   "source": [
    "На матрице корреляций не наблюдаются взаимнокоррелирующие признаки"
   ]
  },
  {
   "cell_type": "markdown",
   "metadata": {},
   "source": [
    "<b>Построим матрцицу корреляций для всего датасета</b>"
   ]
  },
  {
   "cell_type": "code",
   "execution_count": 17,
   "metadata": {},
   "outputs": [
    {
     "data": {
      "text/plain": [
       "<AxesSubplot:>"
      ]
     },
     "execution_count": 17,
     "metadata": {},
     "output_type": "execute_result"
    },
    {
     "data": {
      "image/png": "[encoded data removed]",
      "text/plain": [
       "<Figure size 864x864 with 2 Axes>"
      ]
     },
     "metadata": {
      "needs_background": "light"
     },
     "output_type": "display_data"
    }
   ],
   "source": [
    "cm = bank_data.drop(['userid'], axis=1).corr()  # вычисляем матрицу корреляций\n",
    "plt.figure(figsize=(12, 12))\n",
    "# нарисуем тепловую карту с подписями для матрицы корреляций\n",
    "sns.heatmap(data=cm, annot=True)"
   ]
  },
  {
   "cell_type": "markdown",
   "metadata": {},
   "source": [
    "Наблюдается средня корреляция между признаком `age` и целевой переменной `churn`(0.29). Так же можно заметить небольшую отрицательную корреляцию между признаком `loyalty` и целевой переменной `churn`(-0.16)"
   ]
  },
  {
   "cell_type": "markdown",
   "metadata": {},
   "source": [
    "<a id=\"conclusion2\"></a>\n",
    "### Вывод"
   ]
  },
  {
   "cell_type": "markdown",
   "metadata": {},
   "source": [
    "- Составлен портрет среднестатистического клиента;\n",
    "- Разобраны сходства и различия между оттоковой и надежной группой;<br><br>\n",
    "По диаграммам можно сделать следующие выводы:\n",
    "- Высокая вероятность оттока у клиентов, которые проживают в Ярославле и Ростове Великом;\n",
    "- У клиентов женского пола больше вероятность к оттоку;\n",
    "- Клиенты в возрасте от 40-50 лет имеют тенденцию к оттоку;\n",
    "- Высокая вероятность оттока у клиентов, которые пользуются только одним продуктом банка;\n",
    "- Клиенты, которые владеют кредитной картой и являются не совсем активными, имееют тенденцию к оттоку.\n",
    "<br><br>\n",
    "Наблюдается средня корреляция между признаком `age` и целевой переменной `churn`(0.29). Так же можно заметить небольшую отрицательную корреляцию между признаком `loyalty` и целевой переменной `churn`(-0.16)"
   ]
  },
  {
   "cell_type": "markdown",
   "metadata": {},
   "source": [
    "<a id=\"models_building\"></a>\n",
    "## Построение моделей прогнозирования оттока клиентов"
   ]
  },
  {
   "cell_type": "markdown",
   "metadata": {},
   "source": [
    "Преобразуем категориальные поля `city` и `gender` во множество бинарных полей"
   ]
  },
  {
   "cell_type": "code",
   "execution_count": 18,
   "metadata": {},
   "outputs": [
    {
     "data": {
      "text/html": [
       "<div>\n",
       "<style scoped>\n",
       "    .dataframe tbody tr th:only-of-type {\n",
       "        vertical-align: middle;\n",
       "    }\n",
       "\n",
       "    .dataframe tbody tr th {\n",
       "        vertical-align: top;\n",
       "    }\n",
       "\n",
       "    .dataframe thead th {\n",
       "        text-align: right;\n",
       "    }\n",
       "</style>\n",
       "<table border=\"1\" class=\"dataframe\">\n",
       "  <thead>\n",
       "    <tr style=\"text-align: right;\">\n",
       "      <th></th>\n",
       "      <th>score</th>\n",
       "      <th>age</th>\n",
       "      <th>objects</th>\n",
       "      <th>balance</th>\n",
       "      <th>products</th>\n",
       "      <th>creditcard</th>\n",
       "      <th>loyalty</th>\n",
       "      <th>estimated_salary</th>\n",
       "      <th>churn</th>\n",
       "      <th>city_Ростов Великий</th>\n",
       "      <th>city_Рыбинск</th>\n",
       "      <th>city_Ярославль</th>\n",
       "      <th>gender_Ж</th>\n",
       "      <th>gender_М</th>\n",
       "    </tr>\n",
       "  </thead>\n",
       "  <tbody>\n",
       "    <tr>\n",
       "      <th>0</th>\n",
       "      <td>619</td>\n",
       "      <td>42</td>\n",
       "      <td>2</td>\n",
       "      <td>120912.81</td>\n",
       "      <td>1</td>\n",
       "      <td>1</td>\n",
       "      <td>1</td>\n",
       "      <td>101348.88</td>\n",
       "      <td>1</td>\n",
       "      <td>0</td>\n",
       "      <td>0</td>\n",
       "      <td>1</td>\n",
       "      <td>1</td>\n",
       "      <td>0</td>\n",
       "    </tr>\n",
       "    <tr>\n",
       "      <th>1</th>\n",
       "      <td>608</td>\n",
       "      <td>41</td>\n",
       "      <td>1</td>\n",
       "      <td>83807.86</td>\n",
       "      <td>1</td>\n",
       "      <td>0</td>\n",
       "      <td>1</td>\n",
       "      <td>112542.58</td>\n",
       "      <td>0</td>\n",
       "      <td>0</td>\n",
       "      <td>1</td>\n",
       "      <td>0</td>\n",
       "      <td>1</td>\n",
       "      <td>0</td>\n",
       "    </tr>\n",
       "    <tr>\n",
       "      <th>2</th>\n",
       "      <td>502</td>\n",
       "      <td>42</td>\n",
       "      <td>8</td>\n",
       "      <td>159660.80</td>\n",
       "      <td>3</td>\n",
       "      <td>1</td>\n",
       "      <td>0</td>\n",
       "      <td>113931.57</td>\n",
       "      <td>1</td>\n",
       "      <td>0</td>\n",
       "      <td>0</td>\n",
       "      <td>1</td>\n",
       "      <td>1</td>\n",
       "      <td>0</td>\n",
       "    </tr>\n",
       "    <tr>\n",
       "      <th>3</th>\n",
       "      <td>699</td>\n",
       "      <td>39</td>\n",
       "      <td>1</td>\n",
       "      <td>118520.15</td>\n",
       "      <td>2</td>\n",
       "      <td>0</td>\n",
       "      <td>0</td>\n",
       "      <td>93826.63</td>\n",
       "      <td>0</td>\n",
       "      <td>0</td>\n",
       "      <td>0</td>\n",
       "      <td>1</td>\n",
       "      <td>1</td>\n",
       "      <td>0</td>\n",
       "    </tr>\n",
       "    <tr>\n",
       "      <th>4</th>\n",
       "      <td>850</td>\n",
       "      <td>43</td>\n",
       "      <td>2</td>\n",
       "      <td>125510.82</td>\n",
       "      <td>1</td>\n",
       "      <td>1</td>\n",
       "      <td>1</td>\n",
       "      <td>79084.10</td>\n",
       "      <td>0</td>\n",
       "      <td>0</td>\n",
       "      <td>1</td>\n",
       "      <td>0</td>\n",
       "      <td>1</td>\n",
       "      <td>0</td>\n",
       "    </tr>\n",
       "  </tbody>\n",
       "</table>\n",
       "</div>"
      ],
      "text/plain": [
       "   score  age  objects    balance  products  creditcard  loyalty  \\\n",
       "0    619   42        2  120912.81         1           1        1   \n",
       "1    608   41        1   83807.86         1           0        1   \n",
       "2    502   42        8  159660.80         3           1        0   \n",
       "3    699   39        1  118520.15         2           0        0   \n",
       "4    850   43        2  125510.82         1           1        1   \n",
       "\n",
       "   estimated_salary  churn  city_Ростов Великий  city_Рыбинск  city_Ярославль  \\\n",
       "0         101348.88      1                    0             0               1   \n",
       "1         112542.58      0                    0             1               0   \n",
       "2         113931.57      1                    0             0               1   \n",
       "3          93826.63      0                    0             0               1   \n",
       "4          79084.10      0                    0             1               0   \n",
       "\n",
       "   gender_Ж  gender_М  \n",
       "0         1         0  \n",
       "1         1         0  \n",
       "2         1         0  \n",
       "3         1         0  \n",
       "4         1         0  "
      ]
     },
     "execution_count": 18,
     "metadata": {},
     "output_type": "execute_result"
    }
   ],
   "source": [
    "ml_df = pd.get_dummies(bank_data.drop(['userid'], axis=1))\n",
    "ml_df.head()"
   ]
  },
  {
   "cell_type": "markdown",
   "metadata": {},
   "source": [
    "<b>Разобьем данные на обучающую и валидационную выборку</b>"
   ]
  },
  {
   "cell_type": "code",
   "execution_count": 19,
   "metadata": {},
   "outputs": [],
   "source": [
    "X = ml_df.drop(['churn'], axis=1)\n",
    "y = ml_df['churn']\n",
    "\n",
    "# разделяем модель на обучающую и валидационную выборку\n",
    "X_train, X_test, y_train, y_test = train_test_split(\n",
    "    X, y, test_size=0.2, random_state=0)\n",
    "\n",
    "scaler = StandardScaler()\n",
    "X_train_st = scaler.fit_transform(\n",
    "    X_train\n",
    ")  # обучаем scaler и одновременно трансформируем матрицу для обучающей выборки\n",
    "\n",
    "# применяем стандартизацию к матрице признаков для тестовой выборки\n",
    "X_test_st = scaler.transform(X_test)"
   ]
  },
  {
   "cell_type": "markdown",
   "metadata": {},
   "source": [
    "<b>Обучим модель на train-выборке двумя способами: логистической регрессией и случайным лесом, а также оценим метрики accuracy, precision и recall для обеих моделей на валидационной выборке</b>"
   ]
  },
  {
   "cell_type": "code",
   "execution_count": 20,
   "metadata": {},
   "outputs": [
    {
     "name": "stdout",
     "output_type": "stream",
     "text": [
      "LogisticRegression(random_state=0)\n",
      "Accuracy:0.82 Precision:0.62 Recall:0.23 ROC_AUC: 0.77\n",
      "RandomForestClassifier(random_state=0)\n",
      "Accuracy:0.87 Precision:0.77 Recall:0.50 ROC_AUC: 0.85\n"
     ]
    }
   ],
   "source": [
    "models = [\n",
    "    LogisticRegression(random_state=0),\n",
    "    RandomForestClassifier(n_estimators=100, random_state=0)\n",
    "]\n",
    "\n",
    "# функция, которая принимает на вход модель и данные и выводит метрики\n",
    "\n",
    "\n",
    "def make_prediction(m, X_train, y_train, X_test, y_test):\n",
    "    model = m\n",
    "    model.fit(X_train, y_train)\n",
    "    y_pred = model.predict(X_test)\n",
    "    probabilities = model.predict_proba(X_test)[:, 1]\n",
    "    print(\n",
    "        'Accuracy:{:.2f} Precision:{:.2f} Recall:{:.2f} ROC_AUC: {:.2f}'.format(\n",
    "            accuracy_score(y_test, y_pred),\n",
    "            precision_score(y_test, y_pred),\n",
    "            recall_score(y_test, y_pred),\n",
    "            roc_auc_score(y_test, probabilities),\n",
    "        )\n",
    "    )\n",
    "\n",
    "\n",
    "for i in models:\n",
    "    print(i)\n",
    "    make_prediction(i, X_train_st, y_train, X_test_st, y_test)"
   ]
  },
  {
   "cell_type": "markdown",
   "metadata": {},
   "source": [
    "<a id=\"conclusion3\"></a>\n",
    "### Вывод"
   ]
  },
  {
   "cell_type": "markdown",
   "metadata": {},
   "source": [
    "Были применены две модели машинного обучения - Логистическая регрессия и Случайный лес. Модель Случайного леса на метриках \"Accuracy\", \"Precision\", \"Recall\" и \"ROC AUC\" показала себя лучше и дала относительно неплохие показатели метрик."
   ]
  },
  {
   "cell_type": "markdown",
   "metadata": {},
   "source": [
    "<a id=\"clients_clustering\"></a>\n",
    "## Кластеризацая клиентов"
   ]
  },
  {
   "cell_type": "markdown",
   "metadata": {},
   "source": [
    "<b>Построим матрицу расстояний на стандартизованной матрице признаков и нарисуем дендрограмму</b>"
   ]
  },
  {
   "cell_type": "code",
   "execution_count": 21,
   "metadata": {},
   "outputs": [
    {
     "data": {
      "image/png": "[encoded data removed]",
      "text/plain": [
       "<Figure size 1080x720 with 1 Axes>"
      ]
     },
     "metadata": {
      "needs_background": "light"
     },
     "output_type": "display_data"
    }
   ],
   "source": [
    "# строим матрицу расстояний функцией linkage()\n",
    "sc = StandardScaler()\n",
    "X_sc = sc.fit_transform(X)\n",
    "\n",
    "linked = linkage(X_sc, method='ward')\n",
    "\n",
    "# отрисовываем дендограмму\n",
    "plt.figure(figsize=(15, 10))\n",
    "dendrogram(linked, orientation='top')\n",
    "plt.show()"
   ]
  },
  {
   "cell_type": "markdown",
   "metadata": {},
   "source": [
    "Дендограмма выделяет 4 разных цвета, соответсвенно можно выделить 4 кластера. Но визуально можно выделить от 3 до 6 кластеров"
   ]
  },
  {
   "cell_type": "markdown",
   "metadata": {},
   "source": [
    "<b>Обучим модель кластеризации на основании алгоритма K-Means и спрогнозируем кластеры клиентов</b>"
   ]
  },
  {
   "cell_type": "code",
   "execution_count": 22,
   "metadata": {},
   "outputs": [],
   "source": [
    "km = KMeans(n_clusters=5, random_state=0)  # задаём число кластеров, равное 5\n",
    "# применяем алгоритм к данным и формируем вектор кластеров\n",
    "labels = km.fit_predict(X_sc)"
   ]
  },
  {
   "cell_type": "markdown",
   "metadata": {},
   "source": [
    "Посмотрим на средние значения признаков для кластеров"
   ]
  },
  {
   "cell_type": "code",
   "execution_count": 23,
   "metadata": {},
   "outputs": [
    {
     "data": {
      "text/html": [
       "<div>\n",
       "<style scoped>\n",
       "    .dataframe tbody tr th:only-of-type {\n",
       "        vertical-align: middle;\n",
       "    }\n",
       "\n",
       "    .dataframe tbody tr th {\n",
       "        vertical-align: top;\n",
       "    }\n",
       "\n",
       "    .dataframe thead th {\n",
       "        text-align: right;\n",
       "    }\n",
       "</style>\n",
       "<table border=\"1\" class=\"dataframe\">\n",
       "  <thead>\n",
       "    <tr style=\"text-align: right;\">\n",
       "      <th>cluster_km</th>\n",
       "      <th>0</th>\n",
       "      <th>1</th>\n",
       "      <th>2</th>\n",
       "      <th>3</th>\n",
       "      <th>4</th>\n",
       "    </tr>\n",
       "  </thead>\n",
       "  <tbody>\n",
       "    <tr>\n",
       "      <th>score</th>\n",
       "      <td>650.06</td>\n",
       "      <td>653.09</td>\n",
       "      <td>651.33</td>\n",
       "      <td>649.19</td>\n",
       "      <td>649.97</td>\n",
       "    </tr>\n",
       "    <tr>\n",
       "      <th>age</th>\n",
       "      <td>38.30</td>\n",
       "      <td>40.15</td>\n",
       "      <td>38.89</td>\n",
       "      <td>38.77</td>\n",
       "      <td>39.42</td>\n",
       "    </tr>\n",
       "    <tr>\n",
       "      <th>objects</th>\n",
       "      <td>5.05</td>\n",
       "      <td>4.97</td>\n",
       "      <td>5.03</td>\n",
       "      <td>4.95</td>\n",
       "      <td>5.05</td>\n",
       "    </tr>\n",
       "    <tr>\n",
       "      <th>balance</th>\n",
       "      <td>120551.40</td>\n",
       "      <td>119145.97</td>\n",
       "      <td>119831.78</td>\n",
       "      <td>119085.12</td>\n",
       "      <td>120259.67</td>\n",
       "    </tr>\n",
       "    <tr>\n",
       "      <th>products</th>\n",
       "      <td>1.52</td>\n",
       "      <td>1.51</td>\n",
       "      <td>1.54</td>\n",
       "      <td>1.55</td>\n",
       "      <td>1.53</td>\n",
       "    </tr>\n",
       "    <tr>\n",
       "      <th>creditcard</th>\n",
       "      <td>0.71</td>\n",
       "      <td>0.71</td>\n",
       "      <td>0.69</td>\n",
       "      <td>0.70</td>\n",
       "      <td>0.72</td>\n",
       "    </tr>\n",
       "    <tr>\n",
       "      <th>loyalty</th>\n",
       "      <td>0.52</td>\n",
       "      <td>0.47</td>\n",
       "      <td>0.53</td>\n",
       "      <td>0.51</td>\n",
       "      <td>0.52</td>\n",
       "    </tr>\n",
       "    <tr>\n",
       "      <th>estimated_salary</th>\n",
       "      <td>100174.25</td>\n",
       "      <td>102446.42</td>\n",
       "      <td>99440.57</td>\n",
       "      <td>99564.25</td>\n",
       "      <td>99905.03</td>\n",
       "    </tr>\n",
       "    <tr>\n",
       "      <th>churn</th>\n",
       "      <td>0.13</td>\n",
       "      <td>0.38</td>\n",
       "      <td>0.17</td>\n",
       "      <td>0.20</td>\n",
       "      <td>0.28</td>\n",
       "    </tr>\n",
       "    <tr>\n",
       "      <th>city_Ростов Великий</th>\n",
       "      <td>0.00</td>\n",
       "      <td>1.00</td>\n",
       "      <td>0.00</td>\n",
       "      <td>0.00</td>\n",
       "      <td>1.00</td>\n",
       "    </tr>\n",
       "    <tr>\n",
       "      <th>city_Рыбинск</th>\n",
       "      <td>0.00</td>\n",
       "      <td>0.00</td>\n",
       "      <td>1.00</td>\n",
       "      <td>0.00</td>\n",
       "      <td>0.00</td>\n",
       "    </tr>\n",
       "    <tr>\n",
       "      <th>city_Ярославль</th>\n",
       "      <td>1.00</td>\n",
       "      <td>0.00</td>\n",
       "      <td>0.00</td>\n",
       "      <td>1.00</td>\n",
       "      <td>0.00</td>\n",
       "    </tr>\n",
       "    <tr>\n",
       "      <th>gender_Ж</th>\n",
       "      <td>0.00</td>\n",
       "      <td>1.00</td>\n",
       "      <td>0.44</td>\n",
       "      <td>1.00</td>\n",
       "      <td>0.00</td>\n",
       "    </tr>\n",
       "    <tr>\n",
       "      <th>gender_М</th>\n",
       "      <td>1.00</td>\n",
       "      <td>0.00</td>\n",
       "      <td>0.56</td>\n",
       "      <td>0.00</td>\n",
       "      <td>1.00</td>\n",
       "    </tr>\n",
       "  </tbody>\n",
       "</table>\n",
       "</div>"
      ],
      "text/plain": [
       "cluster_km                   0          1          2          3          4\n",
       "score                   650.06     653.09     651.33     649.19     649.97\n",
       "age                      38.30      40.15      38.89      38.77      39.42\n",
       "objects                   5.05       4.97       5.03       4.95       5.05\n",
       "balance              120551.40  119145.97  119831.78  119085.12  120259.67\n",
       "products                  1.52       1.51       1.54       1.55       1.53\n",
       "creditcard                0.71       0.71       0.69       0.70       0.72\n",
       "loyalty                   0.52       0.47       0.53       0.51       0.52\n",
       "estimated_salary     100174.25  102446.42   99440.57   99564.25   99905.03\n",
       "churn                     0.13       0.38       0.17       0.20       0.28\n",
       "city_Ростов Великий       0.00       1.00       0.00       0.00       1.00\n",
       "city_Рыбинск              0.00       0.00       1.00       0.00       0.00\n",
       "city_Ярославль            1.00       0.00       0.00       1.00       0.00\n",
       "gender_Ж                  0.00       1.00       0.44       1.00       0.00\n",
       "gender_М                  1.00       0.00       0.56       0.00       1.00"
      ]
     },
     "execution_count": 23,
     "metadata": {},
     "output_type": "execute_result"
    }
   ],
   "source": [
    "ml_df['cluster_km'] = labels\n",
    "bank_data['cluster_km'] = labels\n",
    "ml_df.groupby('cluster_km').mean().T"
   ]
  },
  {
   "cell_type": "markdown",
   "metadata": {},
   "source": [
    "Признаки `balance`, `objects`, `creditcard`, `estimated_salary` примерно одинаковые во всех кластерах, с незначительными отличиями.\n",
    "\n",
    "- Группы №1 и №4 имеют наибольшие средние показатели по целевой переменной `churn`, соответсвенно можно сделать выводы, что именно в этих группах больше всего клиентов с повышенной вероятностью на отток. Этим группам характерен средний возраст от 39-40 лет, населенный пункт обеих групп - Ростов Великий, в группе №1, в которую попали только клиенты женского пола, признак `loyalty` меньше 50%;\n",
    "- Группа №0 показывает себя как самая надежная, относительно среднего значения по столбцу `churn`. Данной группе характерен средний возраст 38-39 лет с признаком `loyalty` выше 50%. В данную группу попали только клиенты мужского пола, проживающие в Ярославле;\n",
    "- Группа №2 показывает чуть хуже отсноситльно группы №0, но такую группу также можно считать довольно надежной. Данной группе характерен средний возраст 38-39 лет с признаком `loyalty` выше 50%. В данную группы попали представители двух гендеров практически в равных долях, проживающие в Рыбинске;\n",
    "- Группа №3 занимает промежуточное положение отсносительно групп №1 и №4 и групп №0 и №2, однако эту группу можно счиать надежной относительно оттоковых групп. Данной группе характерен средний возраст 38-39 лет с признаком `loyalty` выше 50%. В данную группы попали представители женского пола, проживающие в Ярославле."
   ]
  },
  {
   "cell_type": "markdown",
   "metadata": {},
   "source": [
    "<b>Построим распределения признаков для кластеров</b>"
   ]
  },
  {
   "cell_type": "code",
   "execution_count": 24,
   "metadata": {},
   "outputs": [
    {
     "data": {
      "image/png": "[encoded data removed]",
      "text/plain": [
       "<Figure size 1440x864 with 12 Axes>"
      ]
     },
     "metadata": {
      "needs_background": "light"
     },
     "output_type": "display_data"
    }
   ],
   "source": [
    "fig, axes = plt.subplots(3, 4)\n",
    "fig.set_size_inches(20, 12)\n",
    "axes = axes.ravel()\n",
    "i = 0\n",
    "for column in bank_data.drop(['userid'], axis=1):\n",
    "    if str(bank_data[column].dtype) in ['int64', 'object']:\n",
    "        if column in ['score', 'age', 'objects']:\n",
    "            sns.boxplot(x='cluster_km', y=column, data=bank_data, ax=axes[i])\n",
    "        else:\n",
    "            sns.countplot(data=bank_data, x=column,\n",
    "                          hue='cluster_km', ax=axes[i])\n",
    "    if str(bank_data[column].dtype) == 'float64':\n",
    "        sns.boxplot(x='cluster_km', y=column, data=bank_data, ax=axes[i])\n",
    "    i += 1\n",
    "plt.show()"
   ]
  },
  {
   "cell_type": "markdown",
   "metadata": {},
   "source": [
    "<b>Для каждого полученного кластера посчитаем долю оттока</b>"
   ]
  },
  {
   "cell_type": "code",
   "execution_count": 25,
   "metadata": {},
   "outputs": [
    {
     "data": {
      "text/html": [
       "<div>\n",
       "<style scoped>\n",
       "    .dataframe tbody tr th:only-of-type {\n",
       "        vertical-align: middle;\n",
       "    }\n",
       "\n",
       "    .dataframe tbody tr th {\n",
       "        vertical-align: top;\n",
       "    }\n",
       "\n",
       "    .dataframe thead th {\n",
       "        text-align: right;\n",
       "    }\n",
       "</style>\n",
       "<table border=\"1\" class=\"dataframe\">\n",
       "  <thead>\n",
       "    <tr style=\"text-align: right;\">\n",
       "      <th></th>\n",
       "      <th>churn</th>\n",
       "    </tr>\n",
       "    <tr>\n",
       "      <th>cluster_km</th>\n",
       "      <th></th>\n",
       "    </tr>\n",
       "  </thead>\n",
       "  <tbody>\n",
       "    <tr>\n",
       "      <th>1</th>\n",
       "      <td>0.38</td>\n",
       "    </tr>\n",
       "    <tr>\n",
       "      <th>4</th>\n",
       "      <td>0.28</td>\n",
       "    </tr>\n",
       "    <tr>\n",
       "      <th>3</th>\n",
       "      <td>0.20</td>\n",
       "    </tr>\n",
       "    <tr>\n",
       "      <th>2</th>\n",
       "      <td>0.17</td>\n",
       "    </tr>\n",
       "    <tr>\n",
       "      <th>0</th>\n",
       "      <td>0.13</td>\n",
       "    </tr>\n",
       "  </tbody>\n",
       "</table>\n",
       "</div>"
      ],
      "text/plain": [
       "            churn\n",
       "cluster_km       \n",
       "1            0.38\n",
       "4            0.28\n",
       "3            0.20\n",
       "2            0.17\n",
       "0            0.13"
      ]
     },
     "execution_count": 25,
     "metadata": {},
     "output_type": "execute_result"
    }
   ],
   "source": [
    "ml_df.groupby('cluster_km').agg(\n",
    "    {'churn': 'mean'}).sort_values(by='churn', ascending=False)"
   ]
  },
  {
   "cell_type": "markdown",
   "metadata": {},
   "source": [
    "Кластеры №1 и №4 склонны к оттоку, а кластеры №0 и №2 показывают себя довольно надежно. Кластер №3 занимает промежуточное состояние, однако данный кластер можно счиать относительно надежным"
   ]
  },
  {
   "cell_type": "markdown",
   "metadata": {},
   "source": [
    "<a id=\"conclusion4\"></a>\n",
    "### Вывод"
   ]
  },
  {
   "cell_type": "markdown",
   "metadata": {},
   "source": [
    "- Дендограмма выделяет 4 разные группы, соответсвенно для выделяния групп следует брать от 4 до 6 кластеров;\n",
    "- На модели \"K-Means\" по графикам и средним значениям признаков - кластеры №1 и №4 выделяются как наиболее вероятные по оттоку;\n",
    "- Доля оттока в кластерах №1 и №4 высокая, а кластеры №0 и №4 показывают свою надежность;\n",
    "- Доля оттока в кластере №3 занимает промежуточное состояние относительно потенциально оттоковых и надежных груп."
   ]
  },
  {
   "cell_type": "markdown",
   "metadata": {},
   "source": [
    "<a id=\"hypothesis_testing\"></a>\n",
    "## Проверка гипотез"
   ]
  },
  {
   "cell_type": "markdown",
   "metadata": {},
   "source": [
    "Посмотрим на размер оттоковых и неоттоковых груп"
   ]
  },
  {
   "cell_type": "code",
   "execution_count": 26,
   "metadata": {},
   "outputs": [
    {
     "data": {
      "text/plain": [
       "0    7963\n",
       "1    2037\n",
       "Name: churn, dtype: int64"
      ]
     },
     "execution_count": 26,
     "metadata": {},
     "output_type": "execute_result"
    }
   ],
   "source": [
    "bank_data['churn'].value_counts()"
   ]
  },
  {
   "cell_type": "markdown",
   "metadata": {},
   "source": [
    "<b>Гипотеза №1: Средний доход между теми клиентами, которые ушли и теми, которые остались, различается</b>"
   ]
  },
  {
   "cell_type": "markdown",
   "metadata": {},
   "source": [
    "Нулевая гипотеза \"H0\" - Средний доход между группами не различается\n",
    "Альтернативная гипотеза \"H1\" - Средний доход между группами различается"
   ]
  },
  {
   "cell_type": "code",
   "execution_count": 27,
   "metadata": {},
   "outputs": [
    {
     "name": "stdout",
     "output_type": "stream",
     "text": [
      "p-значение:  0.22892461305145803\n",
      "Не получилось отвергнуть нулевую гипотезу\n"
     ]
    }
   ],
   "source": [
    "churn_rate0_salary = bank_data.query('churn==0')['estimated_salary']\n",
    "churn_rate1_salary = bank_data.query('churn==1')['estimated_salary']\n",
    "\n",
    "alpha = .05  # критический уровень статистической значимости\n",
    "\n",
    "# указываем параметр equal_var = False, тк размеры выборок отличаются почти в 4 раза\n",
    "results = st.ttest_ind(\n",
    "    churn_rate0_salary,\n",
    "    churn_rate1_salary,\n",
    "    equal_var=False)\n",
    "\n",
    "print('p-значение: ', results.pvalue)\n",
    "\n",
    "if results.pvalue < alpha:\n",
    "    print(\"Отвергаем нулевую гипотезу\")\n",
    "else:\n",
    "    print(\"Не получилось отвергнуть нулевую гипотезу\")"
   ]
  },
  {
   "cell_type": "markdown",
   "metadata": {},
   "source": [
    "Полученное значение p-value говорит о том, что вероятность получить такое или большее различие случайно почти 23%. Статистически значимых различий в среднем доходе между группами нет"
   ]
  },
  {
   "cell_type": "markdown",
   "metadata": {},
   "source": [
    "<b>Гипотеза №2: Средний баланс на счете в банке между теми клиентами, которые ушли и теми, которые остались, различается</b>"
   ]
  },
  {
   "cell_type": "markdown",
   "metadata": {},
   "source": [
    "Нулевая гипотеза \"H0\" - Средний баланс на счете в банке между группми не различается\n",
    "Альтернативная гипотеза \"H1\" - Средний баланс на счете в банке между группми различается"
   ]
  },
  {
   "cell_type": "code",
   "execution_count": 28,
   "metadata": {},
   "outputs": [
    {
     "name": "stdout",
     "output_type": "stream",
     "text": [
      "p-значение:  0.1957405186301962\n",
      "Не получилось отвергнуть нулевую гипотезу\n"
     ]
    }
   ],
   "source": [
    "churn_rate0_balance = bank_data.query('churn==0')['balance']\n",
    "churn_rate1_balance = bank_data.query('churn==1')['balance']\n",
    "\n",
    "alpha = .05  # критический уровень статистической значимости\n",
    "\n",
    "# указываем параметр equal_var = False, тк размеры выборок отличаются почти в 4 раза\n",
    "results = st.ttest_ind(\n",
    "    churn_rate0_balance,\n",
    "    churn_rate1_balance,\n",
    "    equal_var=False)\n",
    "\n",
    "print('p-значение: ', results.pvalue)\n",
    "\n",
    "if results.pvalue < alpha:\n",
    "    print(\"Отвергаем нулевую гипотезу\")\n",
    "else:\n",
    "    print(\"Не получилось отвергнуть нулевую гипотезу\")"
   ]
  },
  {
   "cell_type": "markdown",
   "metadata": {},
   "source": [
    "Полученное значение p-value говорит о том, что вероятность получить такое или большее различие случайно почти 20%. Статистически значимых различий в среднем балансе на счету в банке между группами нет"
   ]
  },
  {
   "cell_type": "markdown",
   "metadata": {},
   "source": [
    "<a id=\"conclusion5\"></a>\n",
    "### Вывод"
   ]
  },
  {
   "cell_type": "markdown",
   "metadata": {},
   "source": [
    "- Различие между средним доходом оттоковых и неоттоковых клиентов не обнаружено;\n",
    "- Различие между средним балансом на счете в банке оттоковых и неоттоковых клиентов не обнаружено."
   ]
  },
  {
   "cell_type": "markdown",
   "metadata": {},
   "source": [
    "<a id=\"conclusion_and_recommendations\"></a>\n",
    "## Выводы и рекомендации"
   ]
  },
  {
   "cell_type": "markdown",
   "metadata": {},
   "source": [
    "Выводы:\n",
    "- Был сформирован портрет среднестатистического клиента;\n",
    "- Были выявлены явные отличия оттоковой группы относительно неоттоковой, а именно: отличие в возрасте в среднем - 7лет, отличие в степени активности на 20%;\n",
    "<br><br>\n",
    "Помимо явных отличий, датасет был разделен на 5 групп, две из которых показали себя как наиболее вероятные к оттоку. Данным группам свойственно: \n",
    "- Высокая вероятность оттока у клиентов, которые проживают в Ярославле и Ростове Великом;\n",
    "- У клиентов женского пола больше вероятность к оттоку;\n",
    "- Клиенты в возрасте от 40-50 лет имеют тенденцию к оттоку;\n",
    "- Высокая вероятность оттока у клиентов, которые пользуются только одним продуктом банка;\n",
    "- Клиенты, которые владеют кредитной картой и являются не совсем активными, имееют тенденцию к оттоку.\n",
    "<br><br>\n",
    "Были посторены две модели машинного обучения, одна из которых показывает хорошие результаты метрик на валидационных данных\n",
    "<br><br>\n",
    "Выводы по гипотезам о равенстве средних доходов и о равенстве среднего баланса между оттоковой и неоттоковой группами:\n",
    "- Различие между средним доходом оттоковых и неоттоковых клиентов не обнаружено;\n",
    "- Различие между средним балансом на счете в банке оттоковых и неоттоковых клиентов не обнаружено."
   ]
  },
  {
   "cell_type": "markdown",
   "metadata": {},
   "source": [
    "Рекомендации:\n",
    "- Улучшить работу с клиентами, проживающими в Ростове Великом;\n",
    "- Разработать программу по удержанию клиентов в возрасте от 45лет;\n",
    "- Улучшить и/или увеличить банковские продукты;\n",
    "- Для увеличения среднего баланса на счету в банке стоит добавить кэш бек систему;\n",
    "- Для привлечения активности клиентов следует снижать ставку по ипотекеж;\n",
    "- Для привлечения клиентов стоит добавить программу инвестиций с открытием инвестиционного счета для каждого заинтересовавшегося клента."
   ]
  }
 ],
 "metadata": {
  "ExecuteTimeLog": [
   {
    "duration": 640,
    "start_time": "2022-03-09T10:47:57.190Z"
   },
   {
    "duration": 1977,
    "start_time": "2022-03-09T11:07:49.901Z"
   },
   {
    "duration": 4,
    "start_time": "2022-03-09T11:09:12.507Z"
   },
   {
    "duration": 4,
    "start_time": "2022-03-09T11:12:18.478Z"
   },
   {
    "duration": 259,
    "start_time": "2022-03-09T11:12:35.044Z"
   },
   {
    "duration": 9,
    "start_time": "2022-03-09T11:13:28.555Z"
   },
   {
    "duration": 28,
    "start_time": "2022-03-09T11:14:21.964Z"
   },
   {
    "duration": 3,
    "start_time": "2022-03-09T11:18:43.956Z"
   },
   {
    "duration": 5,
    "start_time": "2022-03-09T11:19:04.890Z"
   },
   {
    "duration": 3,
    "start_time": "2022-03-09T11:20:31.269Z"
   },
   {
    "duration": 5,
    "start_time": "2022-03-09T11:20:31.498Z"
   },
   {
    "duration": 8,
    "start_time": "2022-03-09T11:25:17.846Z"
   },
   {
    "duration": 12,
    "start_time": "2022-03-09T11:30:12.775Z"
   },
   {
    "duration": 10,
    "start_time": "2022-03-09T11:31:58.519Z"
   },
   {
    "duration": 7,
    "start_time": "2022-03-09T11:32:06.277Z"
   },
   {
    "duration": 10,
    "start_time": "2022-03-09T11:33:32.720Z"
   },
   {
    "duration": 6,
    "start_time": "2022-03-09T11:42:39.403Z"
   },
   {
    "duration": 21,
    "start_time": "2022-03-09T11:42:53.994Z"
   },
   {
    "duration": 7,
    "start_time": "2022-03-09T11:43:59.994Z"
   },
   {
    "duration": 6,
    "start_time": "2022-03-09T11:44:08.162Z"
   },
   {
    "duration": 6,
    "start_time": "2022-03-09T11:44:20.572Z"
   },
   {
    "duration": 6,
    "start_time": "2022-03-09T11:44:36.020Z"
   },
   {
    "duration": 6,
    "start_time": "2022-03-09T11:44:47.107Z"
   },
   {
    "duration": 600,
    "start_time": "2022-03-09T11:51:31.525Z"
   },
   {
    "duration": 1640,
    "start_time": "2022-03-09T11:51:32.127Z"
   },
   {
    "duration": 3,
    "start_time": "2022-03-09T11:51:33.769Z"
   },
   {
    "duration": 39,
    "start_time": "2022-03-09T11:51:33.774Z"
   },
   {
    "duration": 2,
    "start_time": "2022-03-09T11:51:33.815Z"
   },
   {
    "duration": 6,
    "start_time": "2022-03-09T11:51:33.819Z"
   },
   {
    "duration": 8,
    "start_time": "2022-03-09T11:51:33.827Z"
   },
   {
    "duration": 31,
    "start_time": "2022-03-09T11:51:33.837Z"
   },
   {
    "duration": 5,
    "start_time": "2022-03-09T11:51:33.870Z"
   },
   {
    "duration": 26,
    "start_time": "2022-03-09T11:51:33.876Z"
   },
   {
    "duration": 35,
    "start_time": "2022-03-09T14:22:24.701Z"
   },
   {
    "duration": 13,
    "start_time": "2022-03-09T14:23:26.614Z"
   },
   {
    "duration": 5,
    "start_time": "2022-03-09T14:25:05.959Z"
   },
   {
    "duration": 427,
    "start_time": "2022-03-09T14:25:34.254Z"
   },
   {
    "duration": 532,
    "start_time": "2022-03-09T14:25:52.541Z"
   },
   {
    "duration": 1177,
    "start_time": "2022-03-09T14:26:42.282Z"
   },
   {
    "duration": 1956,
    "start_time": "2022-03-09T14:26:43.461Z"
   },
   {
    "duration": 4,
    "start_time": "2022-03-09T14:26:45.418Z"
   },
   {
    "duration": 29,
    "start_time": "2022-03-09T14:26:45.423Z"
   },
   {
    "duration": 3,
    "start_time": "2022-03-09T14:26:45.454Z"
   },
   {
    "duration": 5,
    "start_time": "2022-03-09T14:26:45.459Z"
   },
   {
    "duration": 9,
    "start_time": "2022-03-09T14:26:45.466Z"
   },
   {
    "duration": 10,
    "start_time": "2022-03-09T14:26:45.477Z"
   },
   {
    "duration": 5,
    "start_time": "2022-03-09T14:26:45.488Z"
   },
   {
    "duration": 23,
    "start_time": "2022-03-09T14:26:45.495Z"
   },
   {
    "duration": 64,
    "start_time": "2022-03-09T14:26:45.519Z"
   },
   {
    "duration": 13,
    "start_time": "2022-03-09T14:26:45.585Z"
   },
   {
    "duration": 6,
    "start_time": "2022-03-09T14:26:45.599Z"
   },
   {
    "duration": 1170,
    "start_time": "2022-03-09T14:29:14.614Z"
   },
   {
    "duration": 1204,
    "start_time": "2022-03-09T14:29:15.786Z"
   },
   {
    "duration": 3,
    "start_time": "2022-03-09T14:29:16.992Z"
   },
   {
    "duration": 32,
    "start_time": "2022-03-09T14:29:16.998Z"
   },
   {
    "duration": 3,
    "start_time": "2022-03-09T14:29:17.032Z"
   },
   {
    "duration": 5,
    "start_time": "2022-03-09T14:29:17.037Z"
   },
   {
    "duration": 18,
    "start_time": "2022-03-09T14:29:17.044Z"
   },
   {
    "duration": 10,
    "start_time": "2022-03-09T14:29:17.065Z"
   },
   {
    "duration": 5,
    "start_time": "2022-03-09T14:29:17.077Z"
   },
   {
    "duration": 22,
    "start_time": "2022-03-09T14:29:17.084Z"
   },
   {
    "duration": 62,
    "start_time": "2022-03-09T14:29:17.108Z"
   },
   {
    "duration": 12,
    "start_time": "2022-03-09T14:29:17.172Z"
   },
   {
    "duration": 5,
    "start_time": "2022-03-09T14:29:17.185Z"
   },
   {
    "duration": 1179,
    "start_time": "2022-03-09T14:33:58.898Z"
   },
   {
    "duration": 1479,
    "start_time": "2022-03-09T14:34:00.079Z"
   },
   {
    "duration": 4,
    "start_time": "2022-03-09T14:34:01.563Z"
   },
   {
    "duration": 56,
    "start_time": "2022-03-09T14:34:01.569Z"
   },
   {
    "duration": 15,
    "start_time": "2022-03-09T14:34:01.627Z"
   },
   {
    "duration": 31,
    "start_time": "2022-03-09T14:34:01.644Z"
   },
   {
    "duration": 37,
    "start_time": "2022-03-09T14:34:01.678Z"
   },
   {
    "duration": 35,
    "start_time": "2022-03-09T14:34:01.718Z"
   },
   {
    "duration": 19,
    "start_time": "2022-03-09T14:34:01.755Z"
   },
   {
    "duration": 60,
    "start_time": "2022-03-09T14:34:01.775Z"
   },
   {
    "duration": 78,
    "start_time": "2022-03-09T14:34:01.837Z"
   },
   {
    "duration": 23,
    "start_time": "2022-03-09T14:34:01.918Z"
   },
   {
    "duration": 18,
    "start_time": "2022-03-09T14:34:01.943Z"
   },
   {
    "duration": 57,
    "start_time": "2022-03-13T09:16:22.308Z"
   },
   {
    "duration": 1302,
    "start_time": "2022-03-13T09:16:52.557Z"
   },
   {
    "duration": 1873,
    "start_time": "2022-03-13T09:16:54.148Z"
   },
   {
    "duration": 67,
    "start_time": "2022-03-13T09:17:30.292Z"
   },
   {
    "duration": 59,
    "start_time": "2022-03-13T09:29:53.558Z"
   },
   {
    "duration": 74,
    "start_time": "2022-03-13T09:42:59.231Z"
   },
   {
    "duration": 6,
    "start_time": "2022-03-13T09:43:47.671Z"
   },
   {
    "duration": 365,
    "start_time": "2022-03-13T09:43:48.642Z"
   },
   {
    "duration": 4,
    "start_time": "2022-03-13T09:43:53.199Z"
   },
   {
    "duration": 1697,
    "start_time": "2022-03-13T09:43:53.233Z"
   },
   {
    "duration": 3,
    "start_time": "2022-03-13T09:43:54.932Z"
   },
   {
    "duration": 33,
    "start_time": "2022-03-13T09:43:54.937Z"
   },
   {
    "duration": 3,
    "start_time": "2022-03-13T09:43:55.042Z"
   },
   {
    "duration": 5,
    "start_time": "2022-03-13T09:43:55.256Z"
   },
   {
    "duration": 8,
    "start_time": "2022-03-13T09:43:55.947Z"
   },
   {
    "duration": 10,
    "start_time": "2022-03-13T09:43:56.552Z"
   },
   {
    "duration": 7,
    "start_time": "2022-03-13T09:43:57.249Z"
   },
   {
    "duration": 21,
    "start_time": "2022-03-13T09:43:57.474Z"
   },
   {
    "duration": 33,
    "start_time": "2022-03-13T09:43:58.792Z"
   },
   {
    "duration": 13,
    "start_time": "2022-03-13T09:43:59.466Z"
   },
   {
    "duration": 8,
    "start_time": "2022-03-13T09:44:00.364Z"
   },
   {
    "duration": 5653,
    "start_time": "2022-03-13T09:45:27.702Z"
   },
   {
    "duration": 20,
    "start_time": "2022-03-13T09:45:33.338Z"
   },
   {
    "duration": 9,
    "start_time": "2022-03-13T09:45:33.350Z"
   },
   {
    "duration": 6,
    "start_time": "2022-03-13T09:45:33.354Z"
   },
   {
    "duration": -24,
    "start_time": "2022-03-13T09:45:33.385Z"
   },
   {
    "duration": -84,
    "start_time": "2022-03-13T09:45:33.446Z"
   },
   {
    "duration": -117,
    "start_time": "2022-03-13T09:45:33.480Z"
   },
   {
    "duration": -120,
    "start_time": "2022-03-13T09:45:33.484Z"
   },
   {
    "duration": -121,
    "start_time": "2022-03-13T09:45:33.487Z"
   },
   {
    "duration": -133,
    "start_time": "2022-03-13T09:45:33.499Z"
   },
   {
    "duration": -134,
    "start_time": "2022-03-13T09:45:33.502Z"
   },
   {
    "duration": -137,
    "start_time": "2022-03-13T09:45:33.506Z"
   },
   {
    "duration": -147,
    "start_time": "2022-03-13T09:45:33.517Z"
   },
   {
    "duration": 4,
    "start_time": "2022-03-13T09:45:35.608Z"
   },
   {
    "duration": 1226,
    "start_time": "2022-03-13T09:46:38.234Z"
   },
   {
    "duration": 1571,
    "start_time": "2022-03-13T09:46:40.472Z"
   },
   {
    "duration": 4,
    "start_time": "2022-03-13T09:46:42.937Z"
   },
   {
    "duration": 30,
    "start_time": "2022-03-13T09:46:43.197Z"
   },
   {
    "duration": 3,
    "start_time": "2022-03-13T09:46:43.867Z"
   },
   {
    "duration": 5,
    "start_time": "2022-03-13T09:46:44.074Z"
   },
   {
    "duration": 11,
    "start_time": "2022-03-13T09:46:44.745Z"
   },
   {
    "duration": 12,
    "start_time": "2022-03-13T09:46:45.401Z"
   },
   {
    "duration": 7,
    "start_time": "2022-03-13T09:46:46.069Z"
   },
   {
    "duration": 26,
    "start_time": "2022-03-13T09:46:46.287Z"
   },
   {
    "duration": 33,
    "start_time": "2022-03-13T09:46:47.729Z"
   },
   {
    "duration": 13,
    "start_time": "2022-03-13T09:46:48.423Z"
   },
   {
    "duration": 5,
    "start_time": "2022-03-13T09:46:49.323Z"
   },
   {
    "duration": 274,
    "start_time": "2022-03-13T09:50:06.876Z"
   },
   {
    "duration": 1269,
    "start_time": "2022-03-13T09:50:11.087Z"
   },
   {
    "duration": 1551,
    "start_time": "2022-03-13T09:50:12.358Z"
   },
   {
    "duration": 4,
    "start_time": "2022-03-13T09:50:13.911Z"
   },
   {
    "duration": 32,
    "start_time": "2022-03-13T09:50:13.917Z"
   },
   {
    "duration": 3,
    "start_time": "2022-03-13T09:50:14.315Z"
   },
   {
    "duration": 4,
    "start_time": "2022-03-13T09:50:14.543Z"
   },
   {
    "duration": 9,
    "start_time": "2022-03-13T09:50:15.178Z"
   },
   {
    "duration": 10,
    "start_time": "2022-03-13T09:50:15.814Z"
   },
   {
    "duration": 7,
    "start_time": "2022-03-13T09:50:16.430Z"
   },
   {
    "duration": 24,
    "start_time": "2022-03-13T09:50:16.656Z"
   },
   {
    "duration": 36,
    "start_time": "2022-03-13T09:50:18.113Z"
   },
   {
    "duration": 13,
    "start_time": "2022-03-13T09:50:18.885Z"
   },
   {
    "duration": 5,
    "start_time": "2022-03-13T09:50:19.775Z"
   },
   {
    "duration": 1295,
    "start_time": "2022-03-13T13:43:18.575Z"
   },
   {
    "duration": 1847,
    "start_time": "2022-03-13T13:43:19.872Z"
   },
   {
    "duration": 3,
    "start_time": "2022-03-13T13:43:21.722Z"
   },
   {
    "duration": 30,
    "start_time": "2022-03-13T13:43:21.727Z"
   },
   {
    "duration": 3,
    "start_time": "2022-03-13T13:43:21.759Z"
   },
   {
    "duration": 11,
    "start_time": "2022-03-13T13:43:21.764Z"
   },
   {
    "duration": 12,
    "start_time": "2022-03-13T13:43:21.777Z"
   },
   {
    "duration": 11,
    "start_time": "2022-03-13T13:43:21.792Z"
   },
   {
    "duration": 6,
    "start_time": "2022-03-13T13:43:21.805Z"
   },
   {
    "duration": 52,
    "start_time": "2022-03-13T13:43:21.813Z"
   },
   {
    "duration": 33,
    "start_time": "2022-03-13T13:43:21.867Z"
   },
   {
    "duration": 13,
    "start_time": "2022-03-13T13:43:21.901Z"
   },
   {
    "duration": 5,
    "start_time": "2022-03-13T13:43:21.915Z"
   },
   {
    "duration": 57,
    "start_time": "2022-03-13T16:32:40.571Z"
   },
   {
    "duration": 57,
    "start_time": "2022-03-13T16:34:19.211Z"
   },
   {
    "duration": 64,
    "start_time": "2022-03-13T17:16:30.689Z"
   },
   {
    "duration": 54,
    "start_time": "2022-03-13T17:17:39.761Z"
   },
   {
    "duration": 71,
    "start_time": "2022-03-13T17:17:50.269Z"
   },
   {
    "duration": 1737,
    "start_time": "2022-03-14T08:37:25.550Z"
   },
   {
    "duration": 1866,
    "start_time": "2022-03-14T08:37:27.289Z"
   },
   {
    "duration": 5,
    "start_time": "2022-03-14T08:37:29.158Z"
   },
   {
    "duration": 48,
    "start_time": "2022-03-14T08:37:29.165Z"
   },
   {
    "duration": 4,
    "start_time": "2022-03-14T08:37:29.216Z"
   },
   {
    "duration": 22,
    "start_time": "2022-03-14T08:37:29.223Z"
   },
   {
    "duration": 26,
    "start_time": "2022-03-14T08:37:29.247Z"
   },
   {
    "duration": 20,
    "start_time": "2022-03-14T08:37:29.276Z"
   },
   {
    "duration": 8,
    "start_time": "2022-03-14T08:37:29.299Z"
   },
   {
    "duration": 64,
    "start_time": "2022-03-14T08:37:29.310Z"
   },
   {
    "duration": 55,
    "start_time": "2022-03-14T08:37:29.378Z"
   },
   {
    "duration": 44,
    "start_time": "2022-03-14T08:37:29.436Z"
   },
   {
    "duration": 9,
    "start_time": "2022-03-14T08:37:29.482Z"
   }
  ],
  "kernelspec": {
   "display_name": "Python 3 (ipykernel)",
   "language": "python",
   "name": "python3"
  },
  "language_info": {
   "codemirror_mode": {
    "name": "ipython",
    "version": 3
   },
   "file_extension": ".py",
   "mimetype": "text/x-python",
   "name": "python",
   "nbconvert_exporter": "python",
   "pygments_lexer": "ipython3",
   "version": "3.9.2"
  },
  "toc": {
   "base_numbering": 1,
   "nav_menu": {},
   "number_sections": true,
   "sideBar": true,
   "skip_h1_title": true,
   "title_cell": "Table of Contents",
   "title_sidebar": "Contents",
   "toc_cell": false,
   "toc_position": {},
   "toc_section_display": true,
   "toc_window_display": false
  }
 },
 "nbformat": 4,
 "nbformat_minor": 2
}
